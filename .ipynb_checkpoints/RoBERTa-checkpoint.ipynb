{
 "cells": [
  {
   "cell_type": "code",
   "execution_count": 1,
   "metadata": {
    "execution": {
     "iopub.execute_input": "2022-09-23T22:03:44.107488Z",
     "iopub.status.busy": "2022-09-23T22:03:44.106721Z",
     "iopub.status.idle": "2022-09-23T22:04:21.816337Z",
     "shell.execute_reply": "2022-09-23T22:04:21.815239Z",
     "shell.execute_reply.started": "2022-09-23T22:03:44.107375Z"
    }
   },
   "outputs": [
    {
     "name": "stdout",
     "output_type": "stream",
     "text": [
      "\u001b[33mWARNING: Running pip as the 'root' user can result in broken permissions and conflicting behaviour with the system package manager. It is recommended to use a virtual environment instead: https://pip.pypa.io/warnings/venv\u001b[0m\u001b[33m\n",
      "\u001b[0m\u001b[33mWARNING: Running pip as the 'root' user can result in broken permissions and conflicting behaviour with the system package manager. It is recommended to use a virtual environment instead: https://pip.pypa.io/warnings/venv\u001b[0m\u001b[33m\n",
      "Reading package lists... Done\n",
      "Building dependency tree       \n",
      "Reading state information... Done\n",
      "The following NEW packages will be installed:\n",
      "  git-lfs\n",
      "0 upgraded, 1 newly installed, 0 to remove and 65 not upgraded.\n",
      "Need to get 3316 kB of archives.\n",
      "After this operation, 11.1 MB of additional disk space will be used.\n",
      "Get:1 http://archive.ubuntu.com/ubuntu focal/universe amd64 git-lfs amd64 2.9.2-1 [3316 kB]\n",
      "Fetched 3316 kB in 1s (3247 kB/s) \n",
      "Selecting previously unselected package git-lfs.\n",
      "(Reading database ... 108827 files and directories currently installed.)\n",
      "Preparing to unpack .../git-lfs_2.9.2-1_amd64.deb ...\n",
      "Unpacking git-lfs (2.9.2-1) ...\n",
      "Setting up git-lfs (2.9.2-1) ...\n",
      "Processing triggers for man-db (2.9.1-1) ...\n",
      "Error: Failed to call git rev-parse --git-dir: exit status 128 \n",
      "Git LFS initialized.\n"
     ]
    }
   ],
   "source": [
    "! pip install -q transformers\n",
    "!pip install -q gradio\n",
    "!sudo apt-get install git-lfs\n",
    "!git lfs install"
   ]
  },
  {
   "cell_type": "code",
   "execution_count": 6,
   "metadata": {
    "_cell_guid": "b1076dfc-b9ad-4769-8c92-a6c4dae69d19",
    "_uuid": "8f2839f25d086af736a60e9eeb907d3b93b6e0e5",
    "execution": {
     "iopub.execute_input": "2022-09-23T22:06:10.557136Z",
     "iopub.status.busy": "2022-09-23T22:06:10.555934Z",
     "iopub.status.idle": "2022-09-23T22:06:10.568478Z",
     "shell.execute_reply": "2022-09-23T22:06:10.567300Z",
     "shell.execute_reply.started": "2022-09-23T22:06:10.557089Z"
    }
   },
   "outputs": [],
   "source": [
    "import os\n",
    "import wandb\n",
    "import torch\n",
    "import pickle\n",
    "import numpy as np\n",
    "%matplotlib inline\n",
    "import pandas as pd\n",
    "#import gradio as gr\n",
    "import seaborn as sns\n",
    "import tensorflow as tf\n",
    "from typing import Dict\n",
    "from ast import literal_eval\n",
    "from torch.optim import AdamW\n",
    "from tqdm import tqdm, trange\n",
    "import matplotlib.pyplot as plt\n",
    "from kaggle_secrets import UserSecretsClient\n",
    "from torch.nn import BCEWithLogitsLoss, BCELoss\n",
    "from sklearn.model_selection import train_test_split\n",
    "from sklearn.preprocessing import MultiLabelBinarizer\n",
    "from keras.preprocessing.sequence import pad_sequences\n",
    "from torch.utils.data import TensorDataset, DataLoader, RandomSampler, SequentialSampler\n",
    "from sklearn.metrics import classification_report, confusion_matrix, multilabel_confusion_matrix, f1_score, accuracy_score\n",
    "from transformers import XLNetForSequenceClassification, XLNetTokenizer,BertForSequenceClassification,BertTokenizer, RobertaForSequenceClassification,RobertaTokenizer\n",
    "\n",
    "# pd.set_option('Display.max_colwidth',None)"
   ]
  },
  {
   "cell_type": "code",
   "execution_count": 7,
   "metadata": {
    "execution": {
     "iopub.execute_input": "2022-09-23T22:06:14.409666Z",
     "iopub.status.busy": "2022-09-23T22:06:14.409295Z",
     "iopub.status.idle": "2022-09-23T22:06:14.415089Z",
     "shell.execute_reply": "2022-09-23T22:06:14.413918Z",
     "shell.execute_reply.started": "2022-09-23T22:06:14.409636Z"
    }
   },
   "outputs": [],
   "source": [
    "def warn(*args, **kwargs):\n",
    "    pass\n",
    "import warnings\n",
    "warnings.warn = warn"
   ]
  },
  {
   "cell_type": "code",
   "execution_count": 8,
   "metadata": {
    "execution": {
     "iopub.execute_input": "2022-09-23T22:06:20.528637Z",
     "iopub.status.busy": "2022-09-23T22:06:20.528213Z",
     "iopub.status.idle": "2022-09-23T22:06:20.538226Z",
     "shell.execute_reply": "2022-09-23T22:06:20.536820Z",
     "shell.execute_reply.started": "2022-09-23T22:06:20.528580Z"
    }
   },
   "outputs": [
    {
     "data": {
      "text/plain": [
       "'1.11.0'"
      ]
     },
     "execution_count": 8,
     "metadata": {},
     "output_type": "execute_result"
    }
   ],
   "source": [
    "torch.__version__"
   ]
  },
  {
   "cell_type": "code",
   "execution_count": 9,
   "metadata": {
    "execution": {
     "iopub.execute_input": "2022-09-23T22:06:27.049357Z",
     "iopub.status.busy": "2022-09-23T22:06:27.048956Z",
     "iopub.status.idle": "2022-09-23T22:06:32.778589Z",
     "shell.execute_reply": "2022-09-23T22:06:32.777130Z",
     "shell.execute_reply.started": "2022-09-23T22:06:27.049325Z"
    }
   },
   "outputs": [
    {
     "name": "stdout",
     "output_type": "stream",
     "text": [
      "Found GPU at: /device:GPU:0\n"
     ]
    },
    {
     "name": "stderr",
     "output_type": "stream",
     "text": [
      "2022-09-23 22:06:27.052831: I tensorflow/core/platform/cpu_feature_guard.cc:142] This TensorFlow binary is optimized with oneAPI Deep Neural Network Library (oneDNN) to use the following CPU instructions in performance-critical operations:  AVX2 AVX512F FMA\n",
      "To enable them in other operations, rebuild TensorFlow with the appropriate compiler flags.\n",
      "2022-09-23 22:06:27.125228: I tensorflow/stream_executor/cuda/cuda_gpu_executor.cc:937] successful NUMA node read from SysFS had negative value (-1), but there must be at least one NUMA node, so returning NUMA node zero\n",
      "2022-09-23 22:06:27.126369: I tensorflow/stream_executor/cuda/cuda_gpu_executor.cc:937] successful NUMA node read from SysFS had negative value (-1), but there must be at least one NUMA node, so returning NUMA node zero\n",
      "2022-09-23 22:06:27.127126: I tensorflow/stream_executor/cuda/cuda_gpu_executor.cc:937] successful NUMA node read from SysFS had negative value (-1), but there must be at least one NUMA node, so returning NUMA node zero\n",
      "2022-09-23 22:06:32.762269: I tensorflow/stream_executor/cuda/cuda_gpu_executor.cc:937] successful NUMA node read from SysFS had negative value (-1), but there must be at least one NUMA node, so returning NUMA node zero\n",
      "2022-09-23 22:06:32.763268: I tensorflow/stream_executor/cuda/cuda_gpu_executor.cc:937] successful NUMA node read from SysFS had negative value (-1), but there must be at least one NUMA node, so returning NUMA node zero\n",
      "2022-09-23 22:06:32.764131: I tensorflow/stream_executor/cuda/cuda_gpu_executor.cc:937] successful NUMA node read from SysFS had negative value (-1), but there must be at least one NUMA node, so returning NUMA node zero\n",
      "2022-09-23 22:06:32.764799: I tensorflow/core/common_runtime/gpu/gpu_device.cc:1510] Created device /device:GPU:0 with 15043 MB memory:  -> device: 0, name: Tesla P100-PCIE-16GB, pci bus id: 0000:00:04.0, compute capability: 6.0\n"
     ]
    }
   ],
   "source": [
    "device_name = tf.test.gpu_device_name()\n",
    "if device_name != '/device:GPU:0':\n",
    "    raise SystemError('GPU device not found')\n",
    "print('Found GPU at: {}'.format(device_name))"
   ]
  },
  {
   "cell_type": "code",
   "execution_count": 10,
   "metadata": {
    "execution": {
     "iopub.execute_input": "2022-09-23T22:06:56.113052Z",
     "iopub.status.busy": "2022-09-23T22:06:56.112129Z",
     "iopub.status.idle": "2022-09-23T22:06:56.126062Z",
     "shell.execute_reply": "2022-09-23T22:06:56.124654Z",
     "shell.execute_reply.started": "2022-09-23T22:06:56.113000Z"
    }
   },
   "outputs": [
    {
     "data": {
      "text/plain": [
       "'Tesla P100-PCIE-16GB'"
      ]
     },
     "execution_count": 10,
     "metadata": {},
     "output_type": "execute_result"
    }
   ],
   "source": [
    "device = torch.device(\"cuda\" if torch.cuda.is_available() else \"cpu\")\n",
    "n_gpu = torch.cuda.device_count()\n",
    "torch.cuda.get_device_name(0)"
   ]
  },
  {
   "cell_type": "code",
   "execution_count": 11,
   "metadata": {
    "execution": {
     "iopub.execute_input": "2022-09-23T22:06:58.890349Z",
     "iopub.status.busy": "2022-09-23T22:06:58.889371Z",
     "iopub.status.idle": "2022-09-23T22:07:42.437141Z",
     "shell.execute_reply": "2022-09-23T22:07:42.436178Z",
     "shell.execute_reply.started": "2022-09-23T22:06:58.890308Z"
    }
   },
   "outputs": [
    {
     "name": "stdout",
     "output_type": "stream",
     "text": [
      "If you want to use your W&B account, go to Add-ons -> Secrets and provide your W&B access token. Use the Label name as wandb_api. \n",
      "Get your W&B access token from here: https://wandb.ai/authorize\n"
     ]
    },
    {
     "name": "stderr",
     "output_type": "stream",
     "text": [
      "\u001b[34m\u001b[1mwandb\u001b[0m: Logging into wandb.ai. (Learn how to deploy a W&B server locally: https://wandb.me/wandb-server)\n",
      "\u001b[34m\u001b[1mwandb\u001b[0m: You can find your API key in your browser here: https://wandb.ai/authorize\n",
      "\u001b[34m\u001b[1mwandb\u001b[0m: Paste an API key from your profile and hit enter, or press ctrl+c to quit:"
     ]
    },
    {
     "name": "stdin",
     "output_type": "stream",
     "text": [
      "  ········································\n"
     ]
    },
    {
     "name": "stderr",
     "output_type": "stream",
     "text": [
      "\u001b[34m\u001b[1mwandb\u001b[0m: Appending key for api.wandb.ai to your netrc file: /root/.netrc\n"
     ]
    },
    {
     "data": {
      "text/html": [
       "wandb version 0.13.3 is available!  To upgrade, please run:\n",
       " $ pip install wandb --upgrade"
      ],
      "text/plain": [
       "<IPython.core.display.HTML object>"
      ]
     },
     "metadata": {},
     "output_type": "display_data"
    },
    {
     "data": {
      "text/html": [
       "Tracking run with wandb version 0.12.21"
      ],
      "text/plain": [
       "<IPython.core.display.HTML object>"
      ]
     },
     "metadata": {},
     "output_type": "display_data"
    },
    {
     "data": {
      "text/html": [
       "Run data is saved locally in <code>/kaggle/working/wandb/run-20220923_220735-1nxxkrm4</code>"
      ],
      "text/plain": [
       "<IPython.core.display.HTML object>"
      ]
     },
     "metadata": {},
     "output_type": "display_data"
    },
    {
     "data": {
      "text/html": [
       "Syncing run <strong><a href=\"https://wandb.ai/said-aymen/my-awesome-project/runs/1nxxkrm4\" target=\"_blank\">likely-donkey-6</a></strong> to <a href=\"https://wandb.ai/said-aymen/my-awesome-project\" target=\"_blank\">Weights & Biases</a> (<a href=\"https://wandb.me/run\" target=\"_blank\">docs</a>)<br/>"
      ],
      "text/plain": [
       "<IPython.core.display.HTML object>"
      ]
     },
     "metadata": {},
     "output_type": "display_data"
    },
    {
     "data": {
      "text/html": [
       "<button onClick=\"this.nextSibling.style.display='block';this.style.display='none';\">Display W&B run</button><iframe src=\"https://wandb.ai/said-aymen/my-awesome-project/runs/1nxxkrm4?jupyter=true\" style=\"border:none;width:100%;height:420px;display:none;\"></iframe>"
      ],
      "text/plain": [
       "<wandb.sdk.wandb_run.Run at 0x7f649c0e8bd0>"
      ]
     },
     "execution_count": 11,
     "metadata": {},
     "output_type": "execute_result"
    }
   ],
   "source": [
    "try:\n",
    "    from kaggle_secrets import UserSecretsClient\n",
    "    user_secrets = UserSecretsClient()\n",
    "    secret_value_0 = user_secrets.get_secret(\"59ea55d953c59be73504534f45c12c57cd3c2501\")\n",
    "    wandb.login(key=secret_value_0)\n",
    "    anony=None\n",
    "except:\n",
    "    anony = \"must\"\n",
    "    print('If you want to use your W&B account, go to Add-ons -> Secrets and provide your W&B access token. Use the Label name as wandb_api. \\nGet your W&B access token from here: https://wandb.ai/authorize')\n",
    "    \n",
    "    \n",
    "    \n",
    "wandb.init(project=\"my-awesome-project\")"
   ]
  },
  {
   "cell_type": "code",
   "execution_count": 13,
   "metadata": {
    "execution": {
     "iopub.execute_input": "2022-09-23T22:11:06.039234Z",
     "iopub.status.busy": "2022-09-23T22:11:06.038249Z",
     "iopub.status.idle": "2022-09-23T22:11:08.937150Z",
     "shell.execute_reply": "2022-09-23T22:11:08.936150Z",
     "shell.execute_reply.started": "2022-09-23T22:11:06.039193Z"
    }
   },
   "outputs": [
    {
     "data": {
      "text/html": [
       "<div>\n",
       "<style scoped>\n",
       "    .dataframe tbody tr th:only-of-type {\n",
       "        vertical-align: middle;\n",
       "    }\n",
       "\n",
       "    .dataframe tbody tr th {\n",
       "        vertical-align: top;\n",
       "    }\n",
       "\n",
       "    .dataframe thead th {\n",
       "        text-align: right;\n",
       "    }\n",
       "</style>\n",
       "<table border=\"1\" class=\"dataframe\">\n",
       "  <thead>\n",
       "    <tr style=\"text-align: right;\">\n",
       "      <th></th>\n",
       "      <th>Title</th>\n",
       "      <th>abstractText</th>\n",
       "      <th>meshMajor</th>\n",
       "      <th>pmid</th>\n",
       "      <th>meshid</th>\n",
       "      <th>meshroot</th>\n",
       "      <th>A</th>\n",
       "      <th>B</th>\n",
       "      <th>C</th>\n",
       "      <th>D</th>\n",
       "      <th>E</th>\n",
       "      <th>F</th>\n",
       "      <th>G</th>\n",
       "      <th>H</th>\n",
       "      <th>I</th>\n",
       "      <th>J</th>\n",
       "      <th>L</th>\n",
       "      <th>M</th>\n",
       "      <th>N</th>\n",
       "      <th>Z</th>\n",
       "    </tr>\n",
       "  </thead>\n",
       "  <tbody>\n",
       "    <tr>\n",
       "      <th>0</th>\n",
       "      <td>Expression of p53 and coexistence of HPV in pr...</td>\n",
       "      <td>Fifty-four paraffin embedded tissue sections f...</td>\n",
       "      <td>['DNA Probes, HPV', 'DNA, Viral', 'Female', 'H...</td>\n",
       "      <td>8549602</td>\n",
       "      <td>[['D13.444.600.223.555', 'D27.505.259.750.600....</td>\n",
       "      <td>['Chemicals and Drugs [D]', 'Organisms [B]', '...</td>\n",
       "      <td>0</td>\n",
       "      <td>1</td>\n",
       "      <td>1</td>\n",
       "      <td>1</td>\n",
       "      <td>1</td>\n",
       "      <td>0</td>\n",
       "      <td>0</td>\n",
       "      <td>1</td>\n",
       "      <td>0</td>\n",
       "      <td>0</td>\n",
       "      <td>0</td>\n",
       "      <td>0</td>\n",
       "      <td>0</td>\n",
       "      <td>0</td>\n",
       "    </tr>\n",
       "    <tr>\n",
       "      <th>1</th>\n",
       "      <td>Vitamin D status in pregnant Indian women acro...</td>\n",
       "      <td>The present cross-sectional study was conducte...</td>\n",
       "      <td>['Adult', 'Alkaline Phosphatase', 'Breast Feed...</td>\n",
       "      <td>21736816</td>\n",
       "      <td>[['M01.060.116'], ['D08.811.277.352.650.035'],...</td>\n",
       "      <td>['Named Groups [M]', 'Chemicals and Drugs [D]'...</td>\n",
       "      <td>0</td>\n",
       "      <td>1</td>\n",
       "      <td>1</td>\n",
       "      <td>1</td>\n",
       "      <td>1</td>\n",
       "      <td>1</td>\n",
       "      <td>1</td>\n",
       "      <td>0</td>\n",
       "      <td>1</td>\n",
       "      <td>1</td>\n",
       "      <td>0</td>\n",
       "      <td>1</td>\n",
       "      <td>1</td>\n",
       "      <td>1</td>\n",
       "    </tr>\n",
       "    <tr>\n",
       "      <th>2</th>\n",
       "      <td>[Identification of a functionally important di...</td>\n",
       "      <td>The occurrence of individual amino acids and d...</td>\n",
       "      <td>['Amino Acid Sequence', 'Analgesics, Opioid', ...</td>\n",
       "      <td>19060934</td>\n",
       "      <td>[['G02.111.570.060', 'L01.453.245.667.060'], [...</td>\n",
       "      <td>['Phenomena and Processes [G]', 'Information S...</td>\n",
       "      <td>1</td>\n",
       "      <td>1</td>\n",
       "      <td>0</td>\n",
       "      <td>1</td>\n",
       "      <td>1</td>\n",
       "      <td>0</td>\n",
       "      <td>1</td>\n",
       "      <td>0</td>\n",
       "      <td>0</td>\n",
       "      <td>0</td>\n",
       "      <td>1</td>\n",
       "      <td>0</td>\n",
       "      <td>0</td>\n",
       "      <td>0</td>\n",
       "    </tr>\n",
       "  </tbody>\n",
       "</table>\n",
       "</div>"
      ],
      "text/plain": [
       "                                               Title  \\\n",
       "0  Expression of p53 and coexistence of HPV in pr...   \n",
       "1  Vitamin D status in pregnant Indian women acro...   \n",
       "2  [Identification of a functionally important di...   \n",
       "\n",
       "                                        abstractText  \\\n",
       "0  Fifty-four paraffin embedded tissue sections f...   \n",
       "1  The present cross-sectional study was conducte...   \n",
       "2  The occurrence of individual amino acids and d...   \n",
       "\n",
       "                                           meshMajor      pmid  \\\n",
       "0  ['DNA Probes, HPV', 'DNA, Viral', 'Female', 'H...   8549602   \n",
       "1  ['Adult', 'Alkaline Phosphatase', 'Breast Feed...  21736816   \n",
       "2  ['Amino Acid Sequence', 'Analgesics, Opioid', ...  19060934   \n",
       "\n",
       "                                              meshid  \\\n",
       "0  [['D13.444.600.223.555', 'D27.505.259.750.600....   \n",
       "1  [['M01.060.116'], ['D08.811.277.352.650.035'],...   \n",
       "2  [['G02.111.570.060', 'L01.453.245.667.060'], [...   \n",
       "\n",
       "                                            meshroot  A  B  C  D  E  F  G  H  \\\n",
       "0  ['Chemicals and Drugs [D]', 'Organisms [B]', '...  0  1  1  1  1  0  0  1   \n",
       "1  ['Named Groups [M]', 'Chemicals and Drugs [D]'...  0  1  1  1  1  1  1  0   \n",
       "2  ['Phenomena and Processes [G]', 'Information S...  1  1  0  1  1  0  1  0   \n",
       "\n",
       "   I  J  L  M  N  Z  \n",
       "0  0  0  0  0  0  0  \n",
       "1  1  1  0  1  1  1  \n",
       "2  0  0  1  0  0  0  "
      ]
     },
     "execution_count": 13,
     "metadata": {},
     "output_type": "execute_result"
    }
   ],
   "source": [
    "dataset_Name='../input/pubmed-multilabel-text-classification/PubMed Multi Label Text Classification Dataset Processed.csv'\n",
    "\n",
    "df= pd.read_csv(dataset_Name)\n",
    "df.head(3)"
   ]
  },
  {
   "cell_type": "code",
   "execution_count": 14,
   "metadata": {
    "execution": {
     "iopub.execute_input": "2022-09-23T22:11:12.179533Z",
     "iopub.status.busy": "2022-09-23T22:11:12.178976Z",
     "iopub.status.idle": "2022-09-23T22:11:12.189504Z",
     "shell.execute_reply": "2022-09-23T22:11:12.185245Z",
     "shell.execute_reply.started": "2022-09-23T22:11:12.179500Z"
    }
   },
   "outputs": [
    {
     "name": "stdout",
     "output_type": "stream",
     "text": [
      "Total number of Articles extracted from Bioasq dataset are = 50000\n"
     ]
    }
   ],
   "source": [
    "print(\"Total number of Articles extracted from Bioasq dataset are =\",len(df))"
   ]
  },
  {
   "cell_type": "code",
   "execution_count": 15,
   "metadata": {
    "execution": {
     "iopub.execute_input": "2022-09-23T22:11:15.526533Z",
     "iopub.status.busy": "2022-09-23T22:11:15.526145Z",
     "iopub.status.idle": "2022-09-23T22:11:18.221128Z",
     "shell.execute_reply": "2022-09-23T22:11:18.220058Z",
     "shell.execute_reply.started": "2022-09-23T22:11:15.526502Z"
    }
   },
   "outputs": [
    {
     "name": "stdout",
     "output_type": "stream",
     "text": [
      "Average Article length:  192.05284\n",
      "Stdev Article length:  76.74764082329723\n"
     ]
    }
   ],
   "source": [
    "print('Average Article length: ', df.abstractText.str.split().str.len().mean())\n",
    "print('Stdev Article length: ', df.abstractText.str.split().str.len().std())"
   ]
  },
  {
   "cell_type": "code",
   "execution_count": 16,
   "metadata": {
    "execution": {
     "iopub.execute_input": "2022-09-23T22:11:20.632757Z",
     "iopub.status.busy": "2022-09-23T22:11:20.632355Z",
     "iopub.status.idle": "2022-09-23T22:11:20.642157Z",
     "shell.execute_reply": "2022-09-23T22:11:20.640819Z",
     "shell.execute_reply.started": "2022-09-23T22:11:20.632726Z"
    }
   },
   "outputs": [
    {
     "name": "stdout",
     "output_type": "stream",
     "text": [
      "Mesh Labels Root Class: \"\n",
      "\" ['A', 'B', 'C', 'D', 'E', 'F', 'G', 'H', 'I', 'J', 'L', 'M', 'N', 'Z']\n",
      "\n",
      "\n",
      "Number of Labels:  14\n"
     ]
    }
   ],
   "source": [
    "cols = df.columns\n",
    "cols = list(df.columns)\n",
    "mesh_Heading_categories = cols[6:]\n",
    "num_labels = len(mesh_Heading_categories)\n",
    "print('Mesh Labels Root Class: \"\\n\"',mesh_Heading_categories)\n",
    "print(\"\\n\")\n",
    "print('Number of Labels: ' ,num_labels)\n"
   ]
  },
  {
   "cell_type": "code",
   "execution_count": 17,
   "metadata": {
    "execution": {
     "iopub.execute_input": "2022-09-23T22:11:25.236125Z",
     "iopub.status.busy": "2022-09-23T22:11:25.235014Z",
     "iopub.status.idle": "2022-09-23T22:11:25.492342Z",
     "shell.execute_reply": "2022-09-23T22:11:25.491207Z",
     "shell.execute_reply.started": "2022-09-23T22:11:25.236086Z"
    }
   },
   "outputs": [
    {
     "name": "stdout",
     "output_type": "stream",
     "text": [
      "CPU times: user 193 ms, sys: 48.2 ms, total: 241 ms\n",
      "Wall time: 241 ms\n"
     ]
    },
    {
     "data": {
      "text/html": [
       "<div>\n",
       "<style scoped>\n",
       "    .dataframe tbody tr th:only-of-type {\n",
       "        vertical-align: middle;\n",
       "    }\n",
       "\n",
       "    .dataframe tbody tr th {\n",
       "        vertical-align: top;\n",
       "    }\n",
       "\n",
       "    .dataframe thead th {\n",
       "        text-align: right;\n",
       "    }\n",
       "</style>\n",
       "<table border=\"1\" class=\"dataframe\">\n",
       "  <thead>\n",
       "    <tr style=\"text-align: right;\">\n",
       "      <th></th>\n",
       "      <th>Root Label</th>\n",
       "      <th>number of Abstract</th>\n",
       "    </tr>\n",
       "  </thead>\n",
       "  <tbody>\n",
       "    <tr>\n",
       "      <th>0</th>\n",
       "      <td>A</td>\n",
       "      <td>23263</td>\n",
       "    </tr>\n",
       "    <tr>\n",
       "      <th>1</th>\n",
       "      <td>B</td>\n",
       "      <td>46577</td>\n",
       "    </tr>\n",
       "    <tr>\n",
       "      <th>2</th>\n",
       "      <td>C</td>\n",
       "      <td>26453</td>\n",
       "    </tr>\n",
       "    <tr>\n",
       "      <th>3</th>\n",
       "      <td>D</td>\n",
       "      <td>31074</td>\n",
       "    </tr>\n",
       "    <tr>\n",
       "      <th>4</th>\n",
       "      <td>E</td>\n",
       "      <td>39202</td>\n",
       "    </tr>\n",
       "    <tr>\n",
       "      <th>5</th>\n",
       "      <td>F</td>\n",
       "      <td>8885</td>\n",
       "    </tr>\n",
       "    <tr>\n",
       "      <th>6</th>\n",
       "      <td>G</td>\n",
       "      <td>33609</td>\n",
       "    </tr>\n",
       "    <tr>\n",
       "      <th>7</th>\n",
       "      <td>H</td>\n",
       "      <td>6069</td>\n",
       "    </tr>\n",
       "    <tr>\n",
       "      <th>8</th>\n",
       "      <td>I</td>\n",
       "      <td>5595</td>\n",
       "    </tr>\n",
       "    <tr>\n",
       "      <th>9</th>\n",
       "      <td>J</td>\n",
       "      <td>5531</td>\n",
       "    </tr>\n",
       "    <tr>\n",
       "      <th>10</th>\n",
       "      <td>L</td>\n",
       "      <td>7503</td>\n",
       "    </tr>\n",
       "    <tr>\n",
       "      <th>11</th>\n",
       "      <td>M</td>\n",
       "      <td>21363</td>\n",
       "    </tr>\n",
       "    <tr>\n",
       "      <th>12</th>\n",
       "      <td>N</td>\n",
       "      <td>22919</td>\n",
       "    </tr>\n",
       "    <tr>\n",
       "      <th>13</th>\n",
       "      <td>Z</td>\n",
       "      <td>8049</td>\n",
       "    </tr>\n",
       "  </tbody>\n",
       "</table>\n",
       "</div>"
      ],
      "text/plain": [
       "   Root Label  number of Abstract\n",
       "0           A               23263\n",
       "1           B               46577\n",
       "2           C               26453\n",
       "3           D               31074\n",
       "4           E               39202\n",
       "5           F                8885\n",
       "6           G               33609\n",
       "7           H                6069\n",
       "8           I                5595\n",
       "9           J                5531\n",
       "10          L                7503\n",
       "11          M               21363\n",
       "12          N               22919\n",
       "13          Z                8049"
      ]
     },
     "execution_count": 17,
     "metadata": {},
     "output_type": "execute_result"
    }
   ],
   "source": [
    "%%time\n",
    "\n",
    "counts = []\n",
    "for mesh_Heading_category in mesh_Heading_categories:\n",
    "    counts.append((mesh_Heading_category, df[mesh_Heading_category].sum()))\n",
    "df_count = pd.DataFrame(counts, columns=['Root Label', 'number of Abstract'])\n",
    "df_count"
   ]
  },
  {
   "cell_type": "code",
   "execution_count": 18,
   "metadata": {
    "execution": {
     "iopub.execute_input": "2022-09-23T22:11:28.691508Z",
     "iopub.status.busy": "2022-09-23T22:11:28.691145Z",
     "iopub.status.idle": "2022-09-23T22:11:29.120461Z",
     "shell.execute_reply": "2022-09-23T22:11:29.119418Z",
     "shell.execute_reply.started": "2022-09-23T22:11:28.691477Z"
    }
   },
   "outputs": [
    {
     "data": {
      "image/png": "[encoded data removed]",
      "text/plain": [
       "<Figure size 1152x648 with 1 Axes>"
      ]
     },
     "metadata": {},
     "output_type": "display_data"
    },
    {
     "name": "stdout",
     "output_type": "stream",
     "text": [
      "CPU times: user 439 ms, sys: 85.1 ms, total: 524 ms\n",
      "Wall time: 418 ms\n"
     ]
    }
   ],
   "source": [
    "%%time\n",
    "sns.set(font_scale = 1)\n",
    "plt.figure(figsize=(16,9))\n",
    "ax= sns.barplot(mesh_Heading_categories, df.iloc[:,6:].sum().values)\n",
    "plt.title(\"Each Root Class\", fontsize=22)\n",
    "plt.ylabel('Number of Articles', fontsize=18)\n",
    "plt.xlabel('Root Label ', fontsize=18)\n",
    "\n",
    "#adding the text labels\n",
    "rects = ax.patches\n",
    "labels = df.iloc[:,6:].sum().values\n",
    "for rect, label in zip(rects, labels):\n",
    "    height = rect.get_height()\n",
    "    ax.text(rect.get_x() + rect.get_width()/2, height + 5, label, ha='center', va='bottom', fontsize=12)\n",
    "\n",
    "plt.show()"
   ]
  },
  {
   "cell_type": "code",
   "execution_count": 19,
   "metadata": {
    "execution": {
     "iopub.execute_input": "2022-09-23T22:11:35.632301Z",
     "iopub.status.busy": "2022-09-23T22:11:35.631522Z",
     "iopub.status.idle": "2022-09-23T22:11:35.666912Z",
     "shell.execute_reply": "2022-09-23T22:11:35.665799Z",
     "shell.execute_reply.started": "2022-09-23T22:11:35.632261Z"
    }
   },
   "outputs": [
    {
     "name": "stdout",
     "output_type": "stream",
     "text": [
      "(40000, 20)\n",
      "(10000, 20)\n"
     ]
    }
   ],
   "source": [
    "df_train, df_test = train_test_split(df, random_state=32, test_size=0.20, shuffle=True)\n",
    "\n",
    "print(df_train.shape)\n",
    "print(df_test.shape)\n",
    "del(df)"
   ]
  },
  {
   "cell_type": "code",
   "execution_count": 20,
   "metadata": {
    "execution": {
     "iopub.execute_input": "2022-09-23T22:11:37.880253Z",
     "iopub.status.busy": "2022-09-23T22:11:37.878008Z",
     "iopub.status.idle": "2022-09-23T22:11:37.921002Z",
     "shell.execute_reply": "2022-09-23T22:11:37.919946Z",
     "shell.execute_reply.started": "2022-09-23T22:11:37.880206Z"
    }
   },
   "outputs": [
    {
     "data": {
      "text/html": [
       "<div>\n",
       "<style scoped>\n",
       "    .dataframe tbody tr th:only-of-type {\n",
       "        vertical-align: middle;\n",
       "    }\n",
       "\n",
       "    .dataframe tbody tr th {\n",
       "        vertical-align: top;\n",
       "    }\n",
       "\n",
       "    .dataframe thead th {\n",
       "        text-align: right;\n",
       "    }\n",
       "</style>\n",
       "<table border=\"1\" class=\"dataframe\">\n",
       "  <thead>\n",
       "    <tr style=\"text-align: right;\">\n",
       "      <th></th>\n",
       "      <th>Title</th>\n",
       "      <th>abstractText</th>\n",
       "      <th>meshMajor</th>\n",
       "      <th>pmid</th>\n",
       "      <th>meshid</th>\n",
       "      <th>meshroot</th>\n",
       "      <th>A</th>\n",
       "      <th>B</th>\n",
       "      <th>C</th>\n",
       "      <th>D</th>\n",
       "      <th>...</th>\n",
       "      <th>F</th>\n",
       "      <th>G</th>\n",
       "      <th>H</th>\n",
       "      <th>I</th>\n",
       "      <th>J</th>\n",
       "      <th>L</th>\n",
       "      <th>M</th>\n",
       "      <th>N</th>\n",
       "      <th>Z</th>\n",
       "      <th>one_hot_labels</th>\n",
       "    </tr>\n",
       "  </thead>\n",
       "  <tbody>\n",
       "    <tr>\n",
       "      <th>31112</th>\n",
       "      <td>Neurofibromatosis associated with a coronary a...</td>\n",
       "      <td>A case of a patient with type 1 neurofibromato...</td>\n",
       "      <td>['Aged', 'Coronary Aneurysm', 'Humans', 'Male'...</td>\n",
       "      <td>11144803</td>\n",
       "      <td>[['M01.060.116.100'], ['C14.280.647.250.250', ...</td>\n",
       "      <td>['Named Groups [M]', 'Diseases [C]', 'Organism...</td>\n",
       "      <td>0</td>\n",
       "      <td>1</td>\n",
       "      <td>1</td>\n",
       "      <td>0</td>\n",
       "      <td>...</td>\n",
       "      <td>0</td>\n",
       "      <td>0</td>\n",
       "      <td>0</td>\n",
       "      <td>0</td>\n",
       "      <td>0</td>\n",
       "      <td>0</td>\n",
       "      <td>1</td>\n",
       "      <td>0</td>\n",
       "      <td>0</td>\n",
       "      <td>[0, 1, 1, 0, 1, 0, 0, 0, 0, 0, 0, 1, 0, 0]</td>\n",
       "    </tr>\n",
       "    <tr>\n",
       "      <th>48911</th>\n",
       "      <td>Phenolic constituents from Perovskia atriplici...</td>\n",
       "      <td>Perovskoate, an isorinic acid derivative (1) a...</td>\n",
       "      <td>['Caffeic Acids', 'Catechols', 'Cholinesterase...</td>\n",
       "      <td>16644529</td>\n",
       "      <td>[['D02.241.223.200.054'], ['D02.455.426.559.38...</td>\n",
       "      <td>['Chemicals and Drugs [D]', 'Analytical, Diagn...</td>\n",
       "      <td>0</td>\n",
       "      <td>1</td>\n",
       "      <td>0</td>\n",
       "      <td>1</td>\n",
       "      <td>...</td>\n",
       "      <td>0</td>\n",
       "      <td>1</td>\n",
       "      <td>0</td>\n",
       "      <td>0</td>\n",
       "      <td>0</td>\n",
       "      <td>0</td>\n",
       "      <td>0</td>\n",
       "      <td>0</td>\n",
       "      <td>0</td>\n",
       "      <td>[0, 1, 0, 1, 1, 0, 1, 0, 0, 0, 0, 0, 0, 0]</td>\n",
       "    </tr>\n",
       "    <tr>\n",
       "      <th>16394</th>\n",
       "      <td>Motion artifact and background noise suppressi...</td>\n",
       "      <td>Optical coherence tomography (OCT) is a techni...</td>\n",
       "      <td>['Algorithms', 'Angiography', 'Artifacts', 'Ar...</td>\n",
       "      <td>25089975</td>\n",
       "      <td>[['G17.035', 'L01.224.050'], ['E01.370.350.700...</td>\n",
       "      <td>['Phenomena and Processes [G]', 'Information S...</td>\n",
       "      <td>0</td>\n",
       "      <td>0</td>\n",
       "      <td>0</td>\n",
       "      <td>0</td>\n",
       "      <td>...</td>\n",
       "      <td>0</td>\n",
       "      <td>1</td>\n",
       "      <td>0</td>\n",
       "      <td>0</td>\n",
       "      <td>0</td>\n",
       "      <td>1</td>\n",
       "      <td>0</td>\n",
       "      <td>1</td>\n",
       "      <td>0</td>\n",
       "      <td>[0, 0, 0, 0, 1, 0, 1, 0, 0, 0, 1, 0, 1, 0]</td>\n",
       "    </tr>\n",
       "  </tbody>\n",
       "</table>\n",
       "<p>3 rows × 21 columns</p>\n",
       "</div>"
      ],
      "text/plain": [
       "                                                   Title  \\\n",
       "31112  Neurofibromatosis associated with a coronary a...   \n",
       "48911  Phenolic constituents from Perovskia atriplici...   \n",
       "16394  Motion artifact and background noise suppressi...   \n",
       "\n",
       "                                            abstractText  \\\n",
       "31112  A case of a patient with type 1 neurofibromato...   \n",
       "48911  Perovskoate, an isorinic acid derivative (1) a...   \n",
       "16394  Optical coherence tomography (OCT) is a techni...   \n",
       "\n",
       "                                               meshMajor      pmid  \\\n",
       "31112  ['Aged', 'Coronary Aneurysm', 'Humans', 'Male'...  11144803   \n",
       "48911  ['Caffeic Acids', 'Catechols', 'Cholinesterase...  16644529   \n",
       "16394  ['Algorithms', 'Angiography', 'Artifacts', 'Ar...  25089975   \n",
       "\n",
       "                                                  meshid  \\\n",
       "31112  [['M01.060.116.100'], ['C14.280.647.250.250', ...   \n",
       "48911  [['D02.241.223.200.054'], ['D02.455.426.559.38...   \n",
       "16394  [['G17.035', 'L01.224.050'], ['E01.370.350.700...   \n",
       "\n",
       "                                                meshroot  A  B  C  D  ...  F  \\\n",
       "31112  ['Named Groups [M]', 'Diseases [C]', 'Organism...  0  1  1  0  ...  0   \n",
       "48911  ['Chemicals and Drugs [D]', 'Analytical, Diagn...  0  1  0  1  ...  0   \n",
       "16394  ['Phenomena and Processes [G]', 'Information S...  0  0  0  0  ...  0   \n",
       "\n",
       "       G  H  I  J  L  M  N  Z                              one_hot_labels  \n",
       "31112  0  0  0  0  0  1  0  0  [0, 1, 1, 0, 1, 0, 0, 0, 0, 0, 0, 1, 0, 0]  \n",
       "48911  1  0  0  0  0  0  0  0  [0, 1, 0, 1, 1, 0, 1, 0, 0, 0, 0, 0, 0, 0]  \n",
       "16394  1  0  0  0  1  0  1  0  [0, 0, 0, 0, 1, 0, 1, 0, 0, 0, 1, 0, 1, 0]  \n",
       "\n",
       "[3 rows x 21 columns]"
      ]
     },
     "execution_count": 20,
     "metadata": {},
     "output_type": "execute_result"
    }
   ],
   "source": [
    "df_train['one_hot_labels'] = list(df_train[mesh_Heading_categories].values)\n",
    "df_train.head(3)"
   ]
  },
  {
   "cell_type": "code",
   "execution_count": 21,
   "metadata": {
    "execution": {
     "iopub.execute_input": "2022-09-23T22:11:40.598668Z",
     "iopub.status.busy": "2022-09-23T22:11:40.598064Z",
     "iopub.status.idle": "2022-09-23T22:11:40.617799Z",
     "shell.execute_reply": "2022-09-23T22:11:40.616857Z",
     "shell.execute_reply.started": "2022-09-23T22:11:40.598625Z"
    }
   },
   "outputs": [],
   "source": [
    "labels = list(df_train.one_hot_labels.values)\n",
    "Article_train = list(df_train.abstractText.values)"
   ]
  },
  {
   "cell_type": "code",
   "execution_count": 22,
   "metadata": {
    "execution": {
     "iopub.execute_input": "2022-09-23T22:11:44.629500Z",
     "iopub.status.busy": "2022-09-23T22:11:44.628769Z",
     "iopub.status.idle": "2022-09-23T22:13:19.491244Z",
     "shell.execute_reply": "2022-09-23T22:13:19.490065Z",
     "shell.execute_reply.started": "2022-09-23T22:11:44.629463Z"
    }
   },
   "outputs": [
    {
     "data": {
      "application/vnd.jupyter.widget-view+json": {
       "model_id": "5ab56e19d4f24eb490985ffdfc34250b",
       "version_major": 2,
       "version_minor": 0
      },
      "text/plain": [
       "Downloading:   0%|          | 0.00/878k [00:00<?, ?B/s]"
      ]
     },
     "metadata": {},
     "output_type": "display_data"
    },
    {
     "data": {
      "application/vnd.jupyter.widget-view+json": {
       "model_id": "0f60b5e8cc084f80a744e0dc4aa23d6c",
       "version_major": 2,
       "version_minor": 0
      },
      "text/plain": [
       "Downloading:   0%|          | 0.00/446k [00:00<?, ?B/s]"
      ]
     },
     "metadata": {},
     "output_type": "display_data"
    },
    {
     "data": {
      "application/vnd.jupyter.widget-view+json": {
       "model_id": "d671cd2e8dc6482b8dbb98477df14d4e",
       "version_major": 2,
       "version_minor": 0
      },
      "text/plain": [
       "Downloading:   0%|          | 0.00/480 [00:00<?, ?B/s]"
      ]
     },
     "metadata": {},
     "output_type": "display_data"
    },
    {
     "name": "stdout",
     "output_type": "stream",
     "text": [
      "tokenizer outputs:  dict_keys(['input_ids', 'attention_mask'])\n",
      "CPU times: user 1min 33s, sys: 398 ms, total: 1min 33s\n",
      "Wall time: 1min 34s\n"
     ]
    }
   ],
   "source": [
    "%%time\n",
    "max_length = 128\n",
    "tokenizer = RobertaTokenizer.from_pretrained('distilroberta-base', do_lower_case=False)  # tokenizer\n",
    "#tokenizer = BertTokenizer.from_pretrained('dmis-lab/biobert-base-cased-v1.2', do_lower_case=True) \n",
    "#tokenizer = XLNetTokenizer.from_pretrained('xlnet-base-cased', do_lower_case=False) \n",
    "\n",
    "encodings = tokenizer.batch_encode_plus(Article_train,max_length=max_length,padding=True,truncation=True) # tokenizer's encoding method\n",
    "print('tokenizer outputs: ', encodings.keys())\n",
    "\n",
    "input_ids = encodings['input_ids'] # tokenized and encoded sentences\n",
    "attention_masks = encodings['attention_mask'] # attention masks"
   ]
  },
  {
   "cell_type": "code",
   "execution_count": 23,
   "metadata": {
    "execution": {
     "iopub.execute_input": "2022-09-23T22:14:26.354586Z",
     "iopub.status.busy": "2022-09-23T22:14:26.354174Z",
     "iopub.status.idle": "2022-09-23T22:14:31.200943Z",
     "shell.execute_reply": "2022-09-23T22:14:31.199963Z",
     "shell.execute_reply.started": "2022-09-23T22:14:26.354551Z"
    }
   },
   "outputs": [
    {
     "name": "stdout",
     "output_type": "stream",
     "text": [
      "df label indices with only one instance:  [49950, 49878, 49876, 49838, 49759, 49739, 49696, 49590, 49585, 49574, 49546, 49535, 49528, 49487, 49470, 49419, 49404, 49395, 49314, 49245, 49150, 49080, 49071, 49058, 49004, 48991, 48982, 48922, 48919, 48757, 48708, 48686, 48679, 48677, 48602, 48594, 48583, 48531, 48454, 48438, 48411, 48388, 48375, 48350, 48337, 48298, 48213, 48185, 48123, 48085, 48075, 48056, 48020, 48001, 47876, 47840, 47828, 47817, 47776, 47671, 47495, 47435, 47369, 47363, 47362, 47359, 47356, 47321, 47293, 47244, 47239, 47159, 47104, 47089, 47061, 47050, 47002, 46955, 46887, 46874, 46837, 46747, 46706, 46651, 46635, 46598, 46446, 46365, 46247, 46223, 46199, 46170, 46033, 46028, 45955, 45946, 45756, 45755, 45712, 45682, 45671, 45573, 45509, 45430, 45391, 45317, 45294, 45226, 45216, 45190, 45134, 45132, 45105, 45052, 45035, 45025, 44971, 44953, 44867, 44851, 44827, 44777, 44763, 44625, 44606, 44598, 44586, 44579, 44574, 44568, 44499, 44479, 44462, 44296, 44206, 44181, 44116, 44105, 44100, 44090, 43970, 43957, 43831, 43792, 43736, 43721, 43684, 43623, 43574, 43553, 43350, 43307, 43287, 43281, 43220, 43198, 43162, 43156, 43136, 43106, 43091, 43053, 42943, 42845, 42831, 42720, 42703, 42661, 42625, 42600, 42561, 42454, 42381, 42370, 42364, 42287, 42048, 42044, 42010, 41953, 41896, 41881, 41814, 41813, 41737, 41671, 41579, 41466, 41413, 41364, 41283, 41248, 41188, 41180, 41145, 41046, 40974, 40905, 40841, 40826, 40820, 40744, 40732, 40715, 40673, 40666, 40609, 40556, 40548, 40533, 40529, 40446, 40417, 40408, 40367, 40363, 40234, 40217, 40204, 40129, 40127, 40034, 39998, 39997, 39964, 39960, 39908, 39890, 39860, 39827, 39813, 39796, 39775, 39769, 39752, 39743, 39729, 39717, 39695, 39682, 39627, 39588, 39568, 39556, 39550, 39540, 39495, 39375, 39200, 39145, 39097, 39072, 39038, 39000, 38997, 38976, 38874, 38832, 38809, 38751, 38705, 38670, 38659, 38648, 38644, 38609, 38522, 38437, 38418, 38414, 38313, 38287, 38246, 38215, 38207, 38144, 38130, 38125, 38064, 37954, 37921, 37798, 37758, 37709, 37704, 37703, 37686, 37670, 37536, 37532, 37531, 37448, 37438, 37432, 37382, 37333, 37198, 37083, 37074, 36980, 36971, 36921, 36828, 36803, 36762, 36754, 36746, 36679, 36660, 36641, 36639, 36578, 36512, 36483, 36442, 36400, 36367, 36323, 36310, 36304, 36281, 36240, 36239, 36233, 36215, 36202, 36197, 36189, 36186, 36107, 36103, 36068, 36024, 35962, 35833, 35832, 35781, 35738, 35697, 35617, 35565, 35564, 35555, 35488, 35460, 35411, 35409, 35330, 35281, 35242, 35211, 35164, 35112, 35067, 35043, 34978, 34965, 34910, 34868, 34863, 34859, 34823, 34802, 34731, 34669, 34668, 34636, 34598, 34560, 34549, 34465, 34450, 34377, 34164, 34141, 34107, 33979, 33959, 33854, 33812, 33673, 33639, 33473, 33465, 33390, 33322, 33261, 33257, 33226, 33214, 33087, 33015, 32975, 32962, 32960, 32943, 32917, 32863, 32848, 32846, 32820, 32778, 32771, 32759, 32525, 32461, 32241, 32217, 32166, 32144, 32135, 32010, 31904, 31899, 31873, 31860, 31833, 31827, 31751, 31732, 31695, 31663, 31654, 31584, 31504, 31497, 31465, 31426, 31357, 31335, 31298, 31288, 31177, 31150, 31116, 31071, 30949, 30858, 30847, 30807, 30699, 30645, 30599, 30585, 30578, 30431, 30370, 30355, 30347, 30306, 30296, 30262, 30174, 30080, 30067, 30052, 30018, 29945, 29906, 29859, 29820, 29770, 29756, 29752, 29743, 29713, 29710, 29495, 29402, 29363, 29356, 29346, 29289, 29276, 29265, 29263, 29048, 29029, 28993, 28965, 28881, 28879, 28817, 28776, 28753, 28673, 28646, 28638, 28574, 28562, 28537, 28435, 28396, 28381, 28332, 28268, 28265, 28217, 28134, 28123, 28109, 28087, 27953, 27917, 27899, 27881, 27862, 27853, 27810, 27750, 27716, 27687, 27659, 27639, 27608, 27575, 27559, 27399, 27383, 27348, 27267, 27242, 27136, 27047, 26998, 26986, 26883, 26868, 26860, 26812, 26766, 26722, 26676, 26652, 26633, 26620, 26552, 26529, 26506, 26496, 26392, 26382, 26353, 26279, 26258, 26252, 26225, 26202, 26177, 26138, 25981, 25945, 25906, 25892, 25887, 25872, 25789, 25740, 25733, 25637, 25551, 25533, 25502, 25400, 25309, 25269, 25144, 25095, 25047, 25039, 24892, 24724, 24702, 24582, 24567, 24540, 24507, 24466, 24465, 24458, 24449, 24426, 24424, 24416, 24338, 24331, 24265, 24201, 24108, 24065, 24047, 24009, 23968, 23967, 23963, 23912, 23901, 23873, 23851, 23798, 23784, 23766, 23764, 23605, 23601, 23550, 23508, 23485, 23459, 23437, 23394, 23227, 23226, 23200, 23173, 23170, 23114, 23082, 23071, 23025, 22938, 22865, 22842, 22788, 22739, 22705, 22697, 22666, 22557, 22501, 22463, 22408, 22319, 22288, 22139, 22059, 22017, 22011, 21996, 21966, 21960, 21950, 21903, 21754, 21742, 21656, 21632, 21613, 21577, 21566, 21563, 21539, 21332, 21320, 21257, 21232, 21205, 21201, 21174, 21137, 21115, 21081, 21071, 21048, 21031, 20942, 20802, 20733, 20726, 20715, 20710, 20686, 20517, 20481, 20459, 20455, 20447, 20334, 20324, 20320, 20305, 20206, 20178, 20168, 20165, 20130, 20116, 20084, 20072, 20060, 19967, 19936, 19915, 19905, 19897, 19852, 19814, 19804, 19749, 19740, 19725, 19678, 19631, 19621, 19575, 19515, 19501, 19459, 19350, 19307, 19289, 19258, 19207, 19201, 19194, 19192, 19135, 19036, 19024, 19008, 18995, 18951, 18941, 18890, 18851, 18810, 18796, 18755, 18735, 18714, 18627, 18613, 18583, 18573, 18531, 18507, 18502, 18501, 18496, 18448, 18437, 18355, 18263, 18241, 18239, 18219, 18217, 18203, 18182, 18112, 18061, 18041, 18006, 17989, 17981, 17957, 17884, 17840, 17827, 17826, 17819, 17686, 17565, 17547, 17514, 17471, 17390, 17317, 17239, 17215, 17201, 17162, 17148, 17094, 17065, 17016, 16938, 16914, 16885, 16792, 16681, 16677, 16651, 16632, 16503, 16495, 16467, 16423, 16326, 16319, 16167, 16159, 16142, 16132, 16044, 16000, 15966, 15965, 15823, 15799, 15792, 15778, 15763, 15758, 15711, 15683, 15644, 15638, 15621, 15532, 15525, 15520, 15490, 15427, 15418, 15414, 15363, 15360, 15334, 15330, 15324, 15288, 15255, 15233, 15178, 15177, 15128, 15055, 15040, 15035, 14969, 14906, 14889, 14820, 14811, 14801, 14779, 14767, 14731, 14679, 14664, 14632, 14608, 14424, 14389, 14276, 14268, 14098, 14049, 13979, 13951, 13948, 13941, 13892, 13845, 13829, 13757, 13719, 13656, 13648, 13637, 13599, 13529, 13497, 13399, 13305, 13300, 13205, 13188, 13111, 13103, 13088, 13080, 13063, 13028, 12952, 12918, 12846, 12825, 12680, 12667, 12664, 12570, 12564, 12536, 12506, 12433, 12427, 12392, 12325, 12292, 12239, 12155, 12151, 12086, 12018, 12009, 12008, 11945, 11918, 11903, 11864, 11849, 11786, 11784, 11781, 11709, 11681, 11656, 11641, 11618, 11603, 11575, 11518, 11504, 11498, 11489, 11484, 11444, 11390, 11373, 11285, 11257, 11208, 11054, 11040, 10952, 10947, 10911, 10893, 10869, 10770, 10673, 10624, 10591, 10555, 10443, 10434, 10430, 10357, 10284, 10274, 10257, 10127, 10106, 10104, 10094, 10088, 10065, 10005, 9986, 9885, 9878, 9732, 9729, 9711, 9691, 9688, 9654, 9632, 9613, 9509, 9482, 9477, 9416, 9399, 9377, 9320, 9282, 9241, 9185, 9184, 9159, 9052, 9018, 9004, 8994, 8973, 8956, 8952, 8941, 8912, 8863, 8860, 8843, 8799, 8798, 8767, 8757, 8654, 8624, 8569, 8564, 8560, 8542, 8425, 8388, 8281, 8172, 8159, 8097, 8069, 7925, 7857, 7770, 7755, 7651, 7634, 7626, 7625, 7614, 7484, 7393, 7276, 7179, 7177, 7043, 6938, 6923, 6886, 6875, 6830, 6826, 6809, 6744, 6637, 6553, 6501, 6463, 6446, 6442, 6417, 6415, 6379, 6361, 6314, 6251, 6056, 6032, 5961, 5920, 5904, 5897, 5893, 5858, 5842, 5833, 5732, 5714, 5690, 5678, 5644, 5602, 5541, 5533, 5531, 5481, 5446, 5368, 5243, 5223, 5134, 5037, 4987, 4873, 4809, 4730, 4707, 4692, 4685, 4682, 4635, 4576, 4548, 4488, 4437, 4405, 4355, 4315, 4282, 4244, 4169, 4147, 4107, 4087, 4067, 4034, 4029, 3993, 3963, 3943, 3903, 3867, 3795, 3744, 3720, 3707, 3679, 3674, 3654, 3631, 3585, 3525, 3448, 3427, 3394, 3392, 3357, 3209, 3171, 3161, 3118, 3114, 3109, 3080, 3071, 3065, 3052, 3043, 2983, 2942, 2912, 2899, 2876, 2799, 2767, 2711, 2691, 2679, 2610, 2420, 2387, 2361, 2327, 2274, 2254, 2170, 2162, 2146, 2091, 2050, 2038, 2033, 2018, 1921, 1754, 1688, 1668, 1613, 1591, 1555, 1521, 1448, 1411, 1407, 1348, 1347, 1313, 1249, 1215, 1186, 1184, 1051, 941, 925, 913, 907, 884, 806, 752, 680, 545, 507, 458, 388, 364, 360, 223, 213, 200, 193, 184, 171, 158, 105, 103, 96, 50]\n"
     ]
    }
   ],
   "source": [
    "# Identifying indices of 'one_hot_labels' entries that only occur once - this will allow me to stratify split our training data later\n",
    "label_counts = df_train.one_hot_labels.astype(str).value_counts()\n",
    "one_freq = label_counts[label_counts==1].keys()\n",
    "one_freq_idxs = sorted(list(df_train[df_train.one_hot_labels.astype(str).isin(one_freq)].index), reverse=True)\n",
    "print('df label indices with only one instance: ', one_freq_idxs)"
   ]
  },
  {
   "cell_type": "code",
   "execution_count": 24,
   "metadata": {
    "execution": {
     "iopub.execute_input": "2022-09-23T22:14:34.483362Z",
     "iopub.status.busy": "2022-09-23T22:14:34.482411Z",
     "iopub.status.idle": "2022-09-23T22:14:35.349243Z",
     "shell.execute_reply": "2022-09-23T22:14:35.348214Z",
     "shell.execute_reply.started": "2022-09-23T22:14:34.483311Z"
    }
   },
   "outputs": [
    {
     "name": "stderr",
     "output_type": "stream",
     "text": [
      "/opt/conda/lib/python3.7/site-packages/ipykernel_launcher.py:6: UserWarning: Creating a tensor from a list of numpy.ndarrays is extremely slow. Please consider converting the list to a single numpy.ndarray with numpy.array() before converting to a tensor. (Triggered internally at  /usr/local/src/pytorch/torch/csrc/utils/tensor_new.cpp:207.)\n",
      "  \n"
     ]
    }
   ],
   "source": [
    "\n",
    "train_inputs, validation_inputs, train_labels, validation_labels, train_masks, validation_masks = train_test_split(input_ids, labels, attention_masks,\n",
    "                                                            random_state=2020, test_size=0.20)\n",
    "\n",
    "# Convert all of our data into torch tensors, the required datatype for our BERT Pytorch model\n",
    "train_inputs = torch.tensor(train_inputs)\n",
    "train_labels = torch.tensor(train_labels)\n",
    "train_masks = torch.tensor(train_masks)\n",
    "\n",
    "validation_inputs = torch.tensor(validation_inputs)\n",
    "validation_labels = torch.tensor(validation_labels)\n",
    "validation_masks = torch.tensor(validation_masks)"
   ]
  },
  {
   "cell_type": "code",
   "execution_count": 25,
   "metadata": {
    "execution": {
     "iopub.execute_input": "2022-09-23T22:14:41.270482Z",
     "iopub.status.busy": "2022-09-23T22:14:41.270124Z",
     "iopub.status.idle": "2022-09-23T22:14:41.279367Z",
     "shell.execute_reply": "2022-09-23T22:14:41.278122Z",
     "shell.execute_reply.started": "2022-09-23T22:14:41.270452Z"
    }
   },
   "outputs": [],
   "source": [
    "batch_size = 64\n",
    "\n",
    "# Create an iterator of our data with torch DataLoader. This helps save on memory during training because, unlike a for loop, \n",
    "# with an iterator the entire dataset does not need to be loaded into memory\n",
    "\n",
    "train_data =     TensorDataset(train_inputs, train_masks, train_labels,)\n",
    "train_sampler = RandomSampler(train_data)\n",
    "train_dataloader = DataLoader(train_data, sampler=train_sampler, batch_size=batch_size)\n",
    "\n",
    "validation_data = TensorDataset(validation_inputs, validation_masks, validation_labels,)\n",
    "validation_sampler = SequentialSampler(validation_data)\n",
    "validation_dataloader = DataLoader(validation_data, sampler=validation_sampler, batch_size=batch_size)"
   ]
  },
  {
   "cell_type": "code",
   "execution_count": 26,
   "metadata": {
    "execution": {
     "iopub.execute_input": "2022-09-23T22:14:49.399809Z",
     "iopub.status.busy": "2022-09-23T22:14:49.399378Z",
     "iopub.status.idle": "2022-09-23T22:14:49.677040Z",
     "shell.execute_reply": "2022-09-23T22:14:49.675970Z",
     "shell.execute_reply.started": "2022-09-23T22:14:49.399771Z"
    }
   },
   "outputs": [],
   "source": [
    "torch.save(validation_dataloader,'validation_data_loader')\n",
    "torch.save(train_dataloader,'train_data_loader')"
   ]
  },
  {
   "cell_type": "code",
   "execution_count": 30,
   "metadata": {
    "execution": {
     "iopub.execute_input": "2022-09-23T22:19:30.791080Z",
     "iopub.status.busy": "2022-09-23T22:19:30.789905Z",
     "iopub.status.idle": "2022-09-23T22:19:37.051639Z",
     "shell.execute_reply": "2022-09-23T22:19:37.050365Z",
     "shell.execute_reply.started": "2022-09-23T22:19:30.790956Z"
    }
   },
   "outputs": [
    {
     "name": "stderr",
     "output_type": "stream",
     "text": [
      "Some weights of the model checkpoint at ../input/transformers/distilroberta-base were not used when initializing RobertaForSequenceClassification: ['lm_head.layer_norm.weight', 'roberta.pooler.dense.weight', 'lm_head.decoder.weight', 'roberta.pooler.dense.bias', 'lm_head.bias', 'lm_head.dense.bias', 'lm_head.layer_norm.bias', 'lm_head.dense.weight']\n",
      "- This IS expected if you are initializing RobertaForSequenceClassification from the checkpoint of a model trained on another task or with another architecture (e.g. initializing a BertForSequenceClassification model from a BertForPreTraining model).\n",
      "- This IS NOT expected if you are initializing RobertaForSequenceClassification from the checkpoint of a model that you expect to be exactly identical (initializing a BertForSequenceClassification model from a BertForSequenceClassification model).\n",
      "Some weights of RobertaForSequenceClassification were not initialized from the model checkpoint at ../input/transformers/distilroberta-base and are newly initialized: ['classifier.dense.bias', 'classifier.out_proj.bias', 'classifier.dense.weight', 'classifier.out_proj.weight']\n",
      "You should probably TRAIN this model on a down-stream task to be able to use it for predictions and inference.\n"
     ]
    },
    {
     "name": "stdout",
     "output_type": "stream",
     "text": [
      "Model Pushed to Cuda for Training\n",
      "CPU times: user 922 ms, sys: 451 ms, total: 1.37 s\n",
      "Wall time: 6.25 s\n"
     ]
    }
   ],
   "source": [
    "%%time\n",
    "#Tried Several Models Locally XLNet was performing Best. Note If you are changing the model then change the Tokenizer also\n",
    "model = RobertaForSequenceClassification.from_pretrained('../input/transformers/distilroberta-base', num_labels=num_labels)\n",
    "\n",
    "model.cuda()\n",
    "print('Model Pushed to Cuda for Training')"
   ]
  },
  {
   "cell_type": "code",
   "execution_count": 32,
   "metadata": {
    "execution": {
     "iopub.execute_input": "2022-09-23T22:20:21.557369Z",
     "iopub.status.busy": "2022-09-23T22:20:21.556980Z",
     "iopub.status.idle": "2022-09-23T22:20:21.565942Z",
     "shell.execute_reply": "2022-09-23T22:20:21.564524Z",
     "shell.execute_reply.started": "2022-09-23T22:20:21.557336Z"
    }
   },
   "outputs": [],
   "source": [
    "param_optimizer = list(model.named_parameters())\n",
    "no_decay = ['bias', 'gamma', 'beta']\n",
    "optimizer_grouped_parameters = [\n",
    "    {'params': [p for n, p in param_optimizer if not any(nd in n for nd in no_decay)],\n",
    "     'weight_decay_rate': 0.01},\n",
    "    {'params': [p for n, p in param_optimizer if any(nd in n for nd in no_decay)],\n",
    "     'weight_decay_rate': 0.0}\n",
    "]"
   ]
  },
  {
   "cell_type": "code",
   "execution_count": 33,
   "metadata": {
    "execution": {
     "iopub.execute_input": "2022-09-23T22:20:24.392380Z",
     "iopub.status.busy": "2022-09-23T22:20:24.391999Z",
     "iopub.status.idle": "2022-09-23T22:20:24.400461Z",
     "shell.execute_reply": "2022-09-23T22:20:24.399238Z",
     "shell.execute_reply.started": "2022-09-23T22:20:24.392353Z"
    }
   },
   "outputs": [],
   "source": [
    "optimizer = AdamW(optimizer_grouped_parameters,lr=6e-6)\n",
    "# optimizer = AdamW(model.parameters(),lr=4e-5)  # Default optimization #XL-NET"
   ]
  },
  {
   "cell_type": "code",
   "execution_count": 34,
   "metadata": {
    "execution": {
     "iopub.execute_input": "2022-09-23T22:20:28.248768Z",
     "iopub.status.busy": "2022-09-23T22:20:28.247835Z",
     "iopub.status.idle": "2022-09-23T22:20:28.255538Z",
     "shell.execute_reply": "2022-09-23T22:20:28.254488Z",
     "shell.execute_reply.started": "2022-09-23T22:20:28.248733Z"
    }
   },
   "outputs": [],
   "source": [
    "os.environ['TF_FORCE_GPU_ALLOW_GROWTH']='true'"
   ]
  },
  {
   "cell_type": "code",
   "execution_count": 35,
   "metadata": {
    "execution": {
     "iopub.execute_input": "2022-09-23T22:20:30.360708Z",
     "iopub.status.busy": "2022-09-23T22:20:30.360354Z",
     "iopub.status.idle": "2022-09-23T22:58:38.945788Z",
     "shell.execute_reply": "2022-09-23T22:58:38.944915Z",
     "shell.execute_reply.started": "2022-09-23T22:20:30.360676Z"
    }
   },
   "outputs": [
    {
     "name": "stderr",
     "output_type": "stream",
     "text": [
      "Epoch :   0%|          | 0/12 [00:00<?, ?it/s]"
     ]
    },
    {
     "name": "stdout",
     "output_type": "stream",
     "text": [
      "Train loss: 0.4180854283571243\n"
     ]
    },
    {
     "name": "stderr",
     "output_type": "stream",
     "text": [
      "Epoch :   8%|▊         | 1/12 [03:10<35:00, 190.98s/it]"
     ]
    },
    {
     "name": "stdout",
     "output_type": "stream",
     "text": [
      "F1 Validation Accuracy:  83.05084745762711\n",
      "Flat Validation Accuracy:  10.9375\n",
      "\n",
      "\n",
      "Train loss: 0.3369723923206329\n"
     ]
    },
    {
     "name": "stderr",
     "output_type": "stream",
     "text": [
      "Epoch :  17%|█▋        | 2/12 [06:20<31:44, 190.40s/it]"
     ]
    },
    {
     "name": "stdout",
     "output_type": "stream",
     "text": [
      "F1 Validation Accuracy:  84.35754189944133\n",
      "Flat Validation Accuracy:  12.5\n",
      "\n",
      "\n",
      "Train loss: 0.3168458712100983\n"
     ]
    },
    {
     "name": "stderr",
     "output_type": "stream",
     "text": [
      "Epoch :  25%|██▌       | 3/12 [09:31<28:32, 190.29s/it]"
     ]
    },
    {
     "name": "stdout",
     "output_type": "stream",
     "text": [
      "F1 Validation Accuracy:  85.15406162464987\n",
      "Flat Validation Accuracy:  17.1875\n",
      "\n",
      "\n",
      "Train loss: 0.3046758092045784\n"
     ]
    },
    {
     "name": "stderr",
     "output_type": "stream",
     "text": [
      "Epoch :  33%|███▎      | 4/12 [12:41<25:21, 190.24s/it]"
     ]
    },
    {
     "name": "stdout",
     "output_type": "stream",
     "text": [
      "F1 Validation Accuracy:  85.79310344827586\n",
      "Flat Validation Accuracy:  15.625\n",
      "\n",
      "\n",
      "Train loss: 0.2958389840722084\n"
     ]
    },
    {
     "name": "stderr",
     "output_type": "stream",
     "text": [
      "Epoch :  42%|████▏     | 5/12 [15:51<22:11, 190.24s/it]"
     ]
    },
    {
     "name": "stdout",
     "output_type": "stream",
     "text": [
      "F1 Validation Accuracy:  86.14540466392319\n",
      "Flat Validation Accuracy:  15.625\n",
      "\n",
      "\n",
      "Train loss: 0.2887626570165157\n"
     ]
    },
    {
     "name": "stderr",
     "output_type": "stream",
     "text": [
      "Epoch :  50%|█████     | 6/12 [19:01<19:01, 190.26s/it]"
     ]
    },
    {
     "name": "stdout",
     "output_type": "stream",
     "text": [
      "F1 Validation Accuracy:  86.06896551724138\n",
      "Flat Validation Accuracy:  20.3125\n",
      "\n",
      "\n",
      "Train loss: 0.28267023113369943\n"
     ]
    },
    {
     "name": "stderr",
     "output_type": "stream",
     "text": [
      "Epoch :  58%|█████▊    | 7/12 [22:12<15:51, 190.30s/it]"
     ]
    },
    {
     "name": "stdout",
     "output_type": "stream",
     "text": [
      "F1 Validation Accuracy:  86.3697705802969\n",
      "Flat Validation Accuracy:  15.625\n",
      "\n",
      "\n",
      "Train loss: 0.276488244920969\n"
     ]
    },
    {
     "name": "stderr",
     "output_type": "stream",
     "text": [
      "Epoch :  67%|██████▋   | 8/12 [25:22<12:41, 190.35s/it]"
     ]
    },
    {
     "name": "stdout",
     "output_type": "stream",
     "text": [
      "F1 Validation Accuracy:  86.25850340136056\n",
      "Flat Validation Accuracy:  18.75\n",
      "\n",
      "\n",
      "Train loss: 0.27145915827155115\n"
     ]
    },
    {
     "name": "stderr",
     "output_type": "stream",
     "text": [
      "Epoch :  75%|███████▌  | 9/12 [28:33<09:31, 190.36s/it]"
     ]
    },
    {
     "name": "stdout",
     "output_type": "stream",
     "text": [
      "F1 Validation Accuracy:  85.43956043956044\n",
      "Flat Validation Accuracy:  15.625\n",
      "\n",
      "\n",
      "Train loss: 0.26628303310275075\n"
     ]
    },
    {
     "name": "stderr",
     "output_type": "stream",
     "text": [
      "Epoch :  83%|████████▎ | 10/12 [31:43<06:20, 190.43s/it]"
     ]
    },
    {
     "name": "stdout",
     "output_type": "stream",
     "text": [
      "F1 Validation Accuracy:  85.91160220994475\n",
      "Flat Validation Accuracy:  20.3125\n",
      "\n",
      "\n",
      "Train loss: 0.2607814353406429\n"
     ]
    },
    {
     "name": "stderr",
     "output_type": "stream",
     "text": [
      "Epoch :  92%|█████████▏| 11/12 [34:54<03:10, 190.45s/it]"
     ]
    },
    {
     "name": "stdout",
     "output_type": "stream",
     "text": [
      "F1 Validation Accuracy:  85.71428571428571\n",
      "Flat Validation Accuracy:  18.75\n",
      "\n",
      "\n",
      "Train loss: 0.25585583674907686\n"
     ]
    },
    {
     "name": "stderr",
     "output_type": "stream",
     "text": [
      "Epoch : 100%|██████████| 12/12 [38:04<00:00, 190.39s/it]"
     ]
    },
    {
     "name": "stdout",
     "output_type": "stream",
     "text": [
      "F1 Validation Accuracy:  86.30136986301369\n",
      "Flat Validation Accuracy:  18.75\n",
      "\n",
      "\n"
     ]
    },
    {
     "name": "stderr",
     "output_type": "stream",
     "text": [
      "\n"
     ]
    },
    {
     "data": {
      "text/html": [
       "Waiting for W&B process to finish... <strong style=\"color:green\">(success).</strong>"
      ],
      "text/plain": [
       "<IPython.core.display.HTML object>"
      ]
     },
     "metadata": {},
     "output_type": "display_data"
    },
    {
     "data": {
      "application/vnd.jupyter.widget-view+json": {
       "model_id": "",
       "version_major": 2,
       "version_minor": 0
      },
      "text/plain": [
       "VBox(children=(Label(value='0.000 MB of 0.000 MB uploaded (0.000 MB deduped)\\r'), FloatProgress(value=1.0, max…"
      ]
     },
     "metadata": {},
     "output_type": "display_data"
    },
    {
     "data": {
      "text/html": [
       "<style>\n",
       "    table.wandb td:nth-child(1) { padding: 0 10px; text-align: left ; width: auto;} td:nth-child(2) {text-align: left ; width: 100%}\n",
       "    .wandb-row { display: flex; flex-direction: row; flex-wrap: wrap; justify-content: flex-start; width: 100% }\n",
       "    .wandb-col { display: flex; flex-direction: column; flex-basis: 100%; flex: 1; padding: 10px; }\n",
       "    </style>\n",
       "<div class=\"wandb-row\"><div class=\"wandb-col\"><h3>Run history:</h3><br/><table class=\"wandb\"><tr><td>train_loss</td><td>█▅▄▃▃▂▂▂▂▁▁▁</td></tr><tr><td>val_f1_accuracy</td><td>▁▄▅▇█▇██▆▇▇█</td></tr><tr><td>val_flat_accuracy</td><td>▁▂▆▅▅█▅▇▅█▇▇</td></tr></table><br/></div><div class=\"wandb-col\"><h3>Run summary:</h3><br/><table class=\"wandb\"><tr><td>train_loss</td><td>0.25586</td></tr><tr><td>val_f1_accuracy</td><td>86.30137</td></tr><tr><td>val_flat_accuracy</td><td>18.75</td></tr></table><br/></div></div>"
      ],
      "text/plain": [
       "<IPython.core.display.HTML object>"
      ]
     },
     "metadata": {},
     "output_type": "display_data"
    },
    {
     "data": {
      "text/html": [
       "Synced <strong style=\"color:#cdcd00\">likely-donkey-6</strong>: <a href=\"https://wandb.ai/said-aymen/my-awesome-project/runs/1nxxkrm4\" target=\"_blank\">https://wandb.ai/said-aymen/my-awesome-project/runs/1nxxkrm4</a><br/>Synced 6 W&B file(s), 0 media file(s), 0 artifact file(s) and 0 other file(s)"
      ],
      "text/plain": [
       "<IPython.core.display.HTML object>"
      ]
     },
     "metadata": {},
     "output_type": "display_data"
    },
    {
     "data": {
      "text/html": [
       "Find logs at: <code>./wandb/run-20220923_220735-1nxxkrm4/logs</code>"
      ],
      "text/plain": [
       "<IPython.core.display.HTML object>"
      ]
     },
     "metadata": {},
     "output_type": "display_data"
    },
    {
     "name": "stdout",
     "output_type": "stream",
     "text": [
      "CPU times: user 37min 50s, sys: 3.57 s, total: 37min 53s\n",
      "Wall time: 38min 8s\n",
      "Parser   : 291 ms\n"
     ]
    }
   ],
   "source": [
    "%%time\n",
    "\n",
    "# For Storing our loss and accuracy for plotting\n",
    "train_loss_set = []\n",
    "val_f1_accuracy_list,val_flat_accuracy_list,training_loss_list,epochs_list=[],[],[],[]\n",
    "\n",
    "# Number of training epochs (Orignal author's recommend between 10 and 20)\n",
    "epochs = 12\n",
    "\n",
    "# trange is a tqdm wrapper around the normal python range\n",
    "for _ in trange(epochs, desc=\"Epoch \"):\n",
    "    # Training\n",
    "\n",
    "    # Set our model to training mode (as opposed to evaluation mode)\n",
    "    model.train()\n",
    "\n",
    "    # Tracking variables\n",
    "    tr_loss = 0 #running loss\n",
    "    nb_tr_examples, nb_tr_steps = 0, 0\n",
    "  \n",
    "    # Train the data for one epoch\n",
    "    for step, batch in enumerate(train_dataloader):\n",
    "        # Add batch to GPU\n",
    "        batch = tuple(t.to(device) for t in batch)\n",
    "        # Unpack the inputs from our dataloader\n",
    "        b_input_ids, b_input_mask, b_labels= batch\n",
    "        # Clear out the gradients (by default they accumulate)\n",
    "        optimizer.zero_grad()\n",
    "\n",
    "        # Forward pass for multilabel classification\n",
    "        # https://pytorch.org/docs/stable/generated/torch.nn.BCELoss.html#torch.nn.BCELoss\n",
    "        # Creates a criterion that measures the Binary Cross Entropy between the target and the input probabilities\n",
    "        # Also This loss combines a Sigmoid layer and the BCELoss in one single class. This version is more numerically stable \n",
    "        # than using a plain Sigmoid followed by a BCELoss as, by combining the operations into one layer, we take advantage of the \n",
    "        # log-sum-exp trick for numerical stability.\n",
    "        outputs = model(b_input_ids, token_type_ids=None, attention_mask=b_input_mask)\n",
    "        logits = outputs[0]\n",
    "        loss_func = BCEWithLogitsLoss() \n",
    "        loss = loss_func(logits.view(-1,num_labels),b_labels.type_as(logits).view(-1,num_labels)) #convert labels to float for calculation\n",
    "        \n",
    "        train_loss_set.append(loss.item())    \n",
    "\n",
    "        # Backward pass\n",
    "        loss.backward()\n",
    "        # Update parameters and take a step using the computed gradient\n",
    "        optimizer.step()\n",
    "        # scheduler.step()\n",
    "        # Update tracking variables\n",
    "        tr_loss += loss.item()\n",
    "        nb_tr_examples += b_input_ids.size(0)\n",
    "        nb_tr_steps += 1\n",
    "\n",
    "    print(\"Train loss: {}\".format(tr_loss/nb_tr_steps))\n",
    "    training_loss_list.append(tr_loss/nb_tr_steps)\n",
    "\n",
    "    ###############################################################################\n",
    "\n",
    "    # Validation\n",
    "\n",
    "    # Put model in evaluation mode to evaluate loss on the validation set\n",
    "    model.eval()\n",
    "\n",
    "    # Variables to gather full output\n",
    "    logit_preds,true_labels,pred_labels,tokenized_texts = [],[],[],[]\n",
    "\n",
    "    # Predict\n",
    "    for i, batch in enumerate(validation_dataloader):\n",
    "        batch = tuple(t.to(device) for t in batch)\n",
    "        # Unpack the inputs from our dataloader\n",
    "        b_input_ids, b_input_mask, b_labels = batch\n",
    "        with torch.no_grad():\n",
    "            # Forward pass\n",
    "            outs = model(b_input_ids, token_type_ids=None, attention_mask=b_input_mask)\n",
    "            b_logit_pred = outs[0]\n",
    "            pred_label = torch.sigmoid(b_logit_pred)\n",
    "\n",
    "        b_logit_pred = b_logit_pred.detach().cpu().numpy()\n",
    "        pred_label = pred_label.to('cpu').numpy()\n",
    "        b_labels = b_labels.to('cpu').numpy()\n",
    "\n",
    "    tokenized_texts.append(b_input_ids)\n",
    "    logit_preds.append(b_logit_pred)\n",
    "    true_labels.append(b_labels)\n",
    "    pred_labels.append(pred_label)\n",
    "\n",
    "    # Flatten outputs\n",
    "    pred_labels = [item for sublist in pred_labels for item in sublist]\n",
    "    true_labels = [item for sublist in true_labels for item in sublist]\n",
    "\n",
    "    # Calculate Accuracy\n",
    "    threshold = 0.50\n",
    "    pred_bools = [pl>threshold for pl in pred_labels]\n",
    "    true_bools = [tl==1 for tl in true_labels]\n",
    "    val_f1_accuracy = f1_score(true_bools,pred_bools,average='micro')*100\n",
    "    val_flat_accuracy = accuracy_score(true_bools, pred_bools)*100\n",
    "\n",
    "    print('F1 Validation Accuracy: ', val_f1_accuracy)  \n",
    "    print('Flat Validation Accuracy: ', val_flat_accuracy)\n",
    "    print('\\n')\n",
    "    val_f1_accuracy_list.append(val_f1_accuracy)\n",
    "    val_flat_accuracy_list.append(val_flat_accuracy)\n",
    "    epochs_list.append(epochs)  \n",
    "    \n",
    "    wandb.log({\"train_loss\":tr_loss/nb_tr_steps,\"val_f1_accuracy\":val_f1_accuracy,\"val_flat_accuracy\":val_flat_accuracy,})\n",
    "wandb.finish()"
   ]
  },
  {
   "cell_type": "code",
   "execution_count": 36,
   "metadata": {
    "execution": {
     "iopub.execute_input": "2022-09-23T23:01:17.652569Z",
     "iopub.status.busy": "2022-09-23T23:01:17.652187Z",
     "iopub.status.idle": "2022-09-23T23:01:17.659136Z",
     "shell.execute_reply": "2022-09-23T23:01:17.657971Z",
     "shell.execute_reply.started": "2022-09-23T23:01:17.652539Z"
    }
   },
   "outputs": [],
   "source": [
    "num_epochs = np.arange(1,len(training_loss_list)+1)\n",
    "df_train_results=pd.DataFrame({'Epochs':num_epochs,'F1 Validation Accuracy':val_f1_accuracy_list,\\\n",
    "                               'Flat Validation Accuracy':val_flat_accuracy_list,'Train loss':training_loss_list})"
   ]
  },
  {
   "cell_type": "code",
   "execution_count": 37,
   "metadata": {
    "execution": {
     "iopub.execute_input": "2022-09-23T23:01:21.108275Z",
     "iopub.status.busy": "2022-09-23T23:01:21.107143Z",
     "iopub.status.idle": "2022-09-23T23:01:21.414973Z",
     "shell.execute_reply": "2022-09-23T23:01:21.413851Z",
     "shell.execute_reply.started": "2022-09-23T23:01:21.108231Z"
    }
   },
   "outputs": [
    {
     "data": {
      "text/plain": [
       "Text(0.5, 1.0, 'Training Loss vs Number of Epochs for Bert-Base')"
      ]
     },
     "execution_count": 37,
     "metadata": {},
     "output_type": "execute_result"
    },
    {
     "data": {
      "image/png": "[encoded data removed]",
      "text/plain": [
       "<Figure size 720x360 with 1 Axes>"
      ]
     },
     "metadata": {},
     "output_type": "display_data"
    }
   ],
   "source": [
    "fig, ax = plt.subplots(figsize=(10, 5));\n",
    "ax.plot(num_epochs, np.array(training_loss_list) ,'bo-',label=\"Train Loss\")\n",
    "ax.set_xlabel(\"Number of Epochs\")\n",
    "ax.set_ylabel(\"Training Loss\")\n",
    "ax.set_title(\"Training Loss vs Number of Epochs for Bert-Base\",fontsize=18)"
   ]
  },
  {
   "cell_type": "code",
   "execution_count": 38,
   "metadata": {
    "execution": {
     "iopub.execute_input": "2022-09-23T23:01:31.467396Z",
     "iopub.status.busy": "2022-09-23T23:01:31.466998Z",
     "iopub.status.idle": "2022-09-23T23:01:31.753927Z",
     "shell.execute_reply": "2022-09-23T23:01:31.752810Z",
     "shell.execute_reply.started": "2022-09-23T23:01:31.467364Z"
    }
   },
   "outputs": [
    {
     "data": {
      "text/plain": [
       "(0.0, 100.0)"
      ]
     },
     "execution_count": 38,
     "metadata": {},
     "output_type": "execute_result"
    },
    {
     "data": {
      "image/png": "[encoded data removed]",
      "text/plain": [
       "<Figure size 720x504 with 1 Axes>"
      ]
     },
     "metadata": {},
     "output_type": "display_data"
    }
   ],
   "source": [
    "fig, ax = plt.subplots(figsize=(10, 7));\n",
    "ax.plot(num_epochs, np.array(val_f1_accuracy_list),'ro-' ,label=\"F1 Validation Accuracy\")\n",
    "ax.set_xlabel(\"Number of Epochs\")\n",
    "ax.set_ylabel(\"F1 Validation Accuracy\")\n",
    "ax.set_title(\"F1 Validation Accuracy vs Number of Epochs for Bert-Base\",fontsize=18)\n",
    "ax.set_ylim(0, 100)"
   ]
  },
  {
   "cell_type": "code",
   "execution_count": 39,
   "metadata": {
    "execution": {
     "iopub.execute_input": "2022-09-23T23:02:02.369869Z",
     "iopub.status.busy": "2022-09-23T23:02:02.369465Z",
     "iopub.status.idle": "2022-09-23T23:02:02.674336Z",
     "shell.execute_reply": "2022-09-23T23:02:02.673358Z",
     "shell.execute_reply.started": "2022-09-23T23:02:02.369837Z"
    }
   },
   "outputs": [
    {
     "data": {
      "text/plain": [
       "(0.0, 100.0)"
      ]
     },
     "execution_count": 39,
     "metadata": {},
     "output_type": "execute_result"
    },
    {
     "data": {
      "image/png": "[encoded data removed]",
      "text/plain": [
       "<Figure size 720x360 with 1 Axes>"
      ]
     },
     "metadata": {},
     "output_type": "display_data"
    }
   ],
   "source": [
    "fig, ax = plt.subplots(figsize=(10, 5));\n",
    "ax.plot(num_epochs, np.array(val_flat_accuracy_list),'go-', label=\"Flat Validation Accuracy\")\n",
    "ax.set_xlabel(\"Number of Epochs\")\n",
    "ax.set_ylabel(\"Flat Validation Accuracy\")\n",
    "ax.set_title(\"Flat Validation Accuracy vs Number of Epochs for for Bert-Base\",fontsize=18)\n",
    "ax.set_ylim(0, 100)"
   ]
  },
  {
   "cell_type": "code",
   "execution_count": 40,
   "metadata": {
    "execution": {
     "iopub.execute_input": "2022-09-23T23:02:15.879120Z",
     "iopub.status.busy": "2022-09-23T23:02:15.877979Z",
     "iopub.status.idle": "2022-09-23T23:02:15.908078Z",
     "shell.execute_reply": "2022-09-23T23:02:15.906775Z",
     "shell.execute_reply.started": "2022-09-23T23:02:15.879070Z"
    }
   },
   "outputs": [
    {
     "data": {
      "text/html": [
       "<div>\n",
       "<style scoped>\n",
       "    .dataframe tbody tr th:only-of-type {\n",
       "        vertical-align: middle;\n",
       "    }\n",
       "\n",
       "    .dataframe tbody tr th {\n",
       "        vertical-align: top;\n",
       "    }\n",
       "\n",
       "    .dataframe thead th {\n",
       "        text-align: right;\n",
       "    }\n",
       "</style>\n",
       "<table border=\"1\" class=\"dataframe\">\n",
       "  <thead>\n",
       "    <tr style=\"text-align: right;\">\n",
       "      <th></th>\n",
       "      <th>Title</th>\n",
       "      <th>abstractText</th>\n",
       "      <th>meshMajor</th>\n",
       "      <th>pmid</th>\n",
       "      <th>meshid</th>\n",
       "      <th>meshroot</th>\n",
       "      <th>A</th>\n",
       "      <th>B</th>\n",
       "      <th>C</th>\n",
       "      <th>D</th>\n",
       "      <th>...</th>\n",
       "      <th>F</th>\n",
       "      <th>G</th>\n",
       "      <th>H</th>\n",
       "      <th>I</th>\n",
       "      <th>J</th>\n",
       "      <th>L</th>\n",
       "      <th>M</th>\n",
       "      <th>N</th>\n",
       "      <th>Z</th>\n",
       "      <th>one_hot_labels</th>\n",
       "    </tr>\n",
       "  </thead>\n",
       "  <tbody>\n",
       "    <tr>\n",
       "      <th>35083</th>\n",
       "      <td>Expression of N-methyl-d-aspartate receptor 1 ...</td>\n",
       "      <td>High levels of glutamate can be toxic to retin...</td>\n",
       "      <td>['Analysis of Variance', 'Animals', 'Cell Deat...</td>\n",
       "      <td>17942238</td>\n",
       "      <td>[['E05.318.740.150', 'N05.715.360.750.125', 'N...</td>\n",
       "      <td>['Analytical, Diagnostic and Therapeutic Techn...</td>\n",
       "      <td>1</td>\n",
       "      <td>1</td>\n",
       "      <td>1</td>\n",
       "      <td>1</td>\n",
       "      <td>...</td>\n",
       "      <td>0</td>\n",
       "      <td>1</td>\n",
       "      <td>0</td>\n",
       "      <td>0</td>\n",
       "      <td>0</td>\n",
       "      <td>0</td>\n",
       "      <td>0</td>\n",
       "      <td>1</td>\n",
       "      <td>0</td>\n",
       "      <td>[1, 1, 1, 1, 1, 0, 1, 0, 0, 0, 0, 0, 1, 0]</td>\n",
       "    </tr>\n",
       "    <tr>\n",
       "      <th>9005</th>\n",
       "      <td>Protection of pregnant swine by vaccination ag...</td>\n",
       "      <td>The protection conferred on pregnant gilts by ...</td>\n",
       "      <td>['Animals', 'Antibodies, Bacterial', 'Bacteria...</td>\n",
       "      <td>7150130</td>\n",
       "      <td>[['B01.050'], ['D12.776.124.486.485.114.107', ...</td>\n",
       "      <td>['Organisms [B]', 'Chemicals and Drugs [D]', '...</td>\n",
       "      <td>0</td>\n",
       "      <td>1</td>\n",
       "      <td>1</td>\n",
       "      <td>1</td>\n",
       "      <td>...</td>\n",
       "      <td>0</td>\n",
       "      <td>1</td>\n",
       "      <td>0</td>\n",
       "      <td>0</td>\n",
       "      <td>0</td>\n",
       "      <td>0</td>\n",
       "      <td>0</td>\n",
       "      <td>1</td>\n",
       "      <td>0</td>\n",
       "      <td>[0, 1, 1, 1, 1, 0, 1, 0, 0, 0, 0, 0, 1, 0]</td>\n",
       "    </tr>\n",
       "    <tr>\n",
       "      <th>23836</th>\n",
       "      <td>An examination of Escherichia coli strains iso...</td>\n",
       "      <td>Ninety-five strains of Escherichia coli isolat...</td>\n",
       "      <td>['Animals', 'Antigens', 'Antigens, Bacterial',...</td>\n",
       "      <td>6135266</td>\n",
       "      <td>[['B01.050'], ['D23.050'], ['D23.050.161'], ['...</td>\n",
       "      <td>['Organisms [B]', 'Chemicals and Drugs [D]', '...</td>\n",
       "      <td>1</td>\n",
       "      <td>1</td>\n",
       "      <td>1</td>\n",
       "      <td>1</td>\n",
       "      <td>...</td>\n",
       "      <td>0</td>\n",
       "      <td>1</td>\n",
       "      <td>0</td>\n",
       "      <td>0</td>\n",
       "      <td>0</td>\n",
       "      <td>0</td>\n",
       "      <td>0</td>\n",
       "      <td>0</td>\n",
       "      <td>0</td>\n",
       "      <td>[1, 1, 1, 1, 0, 0, 1, 0, 0, 0, 0, 0, 0, 0]</td>\n",
       "    </tr>\n",
       "  </tbody>\n",
       "</table>\n",
       "<p>3 rows × 21 columns</p>\n",
       "</div>"
      ],
      "text/plain": [
       "                                                   Title  \\\n",
       "35083  Expression of N-methyl-d-aspartate receptor 1 ...   \n",
       "9005   Protection of pregnant swine by vaccination ag...   \n",
       "23836  An examination of Escherichia coli strains iso...   \n",
       "\n",
       "                                            abstractText  \\\n",
       "35083  High levels of glutamate can be toxic to retin...   \n",
       "9005   The protection conferred on pregnant gilts by ...   \n",
       "23836  Ninety-five strains of Escherichia coli isolat...   \n",
       "\n",
       "                                               meshMajor      pmid  \\\n",
       "35083  ['Analysis of Variance', 'Animals', 'Cell Deat...  17942238   \n",
       "9005   ['Animals', 'Antibodies, Bacterial', 'Bacteria...   7150130   \n",
       "23836  ['Animals', 'Antigens', 'Antigens, Bacterial',...   6135266   \n",
       "\n",
       "                                                  meshid  \\\n",
       "35083  [['E05.318.740.150', 'N05.715.360.750.125', 'N...   \n",
       "9005   [['B01.050'], ['D12.776.124.486.485.114.107', ...   \n",
       "23836  [['B01.050'], ['D23.050'], ['D23.050.161'], ['...   \n",
       "\n",
       "                                                meshroot  A  B  C  D  ...  F  \\\n",
       "35083  ['Analytical, Diagnostic and Therapeutic Techn...  1  1  1  1  ...  0   \n",
       "9005   ['Organisms [B]', 'Chemicals and Drugs [D]', '...  0  1  1  1  ...  0   \n",
       "23836  ['Organisms [B]', 'Chemicals and Drugs [D]', '...  1  1  1  1  ...  0   \n",
       "\n",
       "       G  H  I  J  L  M  N  Z                              one_hot_labels  \n",
       "35083  1  0  0  0  0  0  1  0  [1, 1, 1, 1, 1, 0, 1, 0, 0, 0, 0, 0, 1, 0]  \n",
       "9005   1  0  0  0  0  0  1  0  [0, 1, 1, 1, 1, 0, 1, 0, 0, 0, 0, 0, 1, 0]  \n",
       "23836  1  0  0  0  0  0  0  0  [1, 1, 1, 1, 0, 0, 1, 0, 0, 0, 0, 0, 0, 0]  \n",
       "\n",
       "[3 rows x 21 columns]"
      ]
     },
     "execution_count": 40,
     "metadata": {},
     "output_type": "execute_result"
    }
   ],
   "source": [
    "df_test['one_hot_labels'] = list(df_test[mesh_Heading_categories].values)\n",
    "df_test.head(3)"
   ]
  },
  {
   "cell_type": "code",
   "execution_count": 41,
   "metadata": {
    "execution": {
     "iopub.execute_input": "2022-09-23T23:02:20.072120Z",
     "iopub.status.busy": "2022-09-23T23:02:20.071727Z",
     "iopub.status.idle": "2022-09-23T23:02:20.082937Z",
     "shell.execute_reply": "2022-09-23T23:02:20.081763Z",
     "shell.execute_reply.started": "2022-09-23T23:02:20.072088Z"
    }
   },
   "outputs": [],
   "source": [
    "test_labels = list(df_test.one_hot_labels.values)\n",
    "Articles_test = list(df_test.abstractText.values)\n",
    "test_mesh_categories = list(df_test.columns[6:20])"
   ]
  },
  {
   "cell_type": "code",
   "execution_count": 42,
   "metadata": {
    "execution": {
     "iopub.execute_input": "2022-09-23T23:02:23.201589Z",
     "iopub.status.busy": "2022-09-23T23:02:23.200828Z",
     "iopub.status.idle": "2022-09-23T23:02:44.580566Z",
     "shell.execute_reply": "2022-09-23T23:02:44.579438Z",
     "shell.execute_reply.started": "2022-09-23T23:02:23.201552Z"
    }
   },
   "outputs": [],
   "source": [
    "# Encoding input data\n",
    "test_encodings = tokenizer.batch_encode_plus(Articles_test,max_length=max_length,padding=True,truncation=True)\n",
    "test_input_ids = test_encodings['input_ids']\n",
    "test_attention_masks = test_encodings['attention_mask']"
   ]
  },
  {
   "cell_type": "code",
   "execution_count": 43,
   "metadata": {
    "execution": {
     "iopub.execute_input": "2022-09-23T23:02:48.327829Z",
     "iopub.status.busy": "2022-09-23T23:02:48.327477Z",
     "iopub.status.idle": "2022-09-23T23:02:48.527067Z",
     "shell.execute_reply": "2022-09-23T23:02:48.526014Z",
     "shell.execute_reply.started": "2022-09-23T23:02:48.327800Z"
    }
   },
   "outputs": [],
   "source": [
    "# Make tensors out of data\n",
    "test_inputs = torch.tensor(test_input_ids)\n",
    "test_labels = torch.tensor(test_labels)\n",
    "test_masks = torch.tensor(test_attention_masks)\n",
    "# Create test dataloader\n",
    "test_data = TensorDataset(test_inputs, test_masks, test_labels,)# test_token_types)\n",
    "test_sampler = SequentialSampler(test_data)\n",
    "test_dataloader = DataLoader(test_data, sampler=test_sampler, batch_size=batch_size)\n",
    "# Save test dataloader\n",
    "torch.save(test_dataloader,'test_data_loader')"
   ]
  },
  {
   "cell_type": "code",
   "execution_count": 44,
   "metadata": {
    "execution": {
     "iopub.execute_input": "2022-09-23T23:03:01.791870Z",
     "iopub.status.busy": "2022-09-23T23:03:01.791332Z",
     "iopub.status.idle": "2022-09-23T23:03:19.404800Z",
     "shell.execute_reply": "2022-09-23T23:03:19.403616Z",
     "shell.execute_reply.started": "2022-09-23T23:03:01.791826Z"
    }
   },
   "outputs": [
    {
     "name": "stdout",
     "output_type": "stream",
     "text": [
      "CPU times: user 17.5 s, sys: 19 ms, total: 17.5 s\n",
      "Wall time: 17.6 s\n"
     ]
    }
   ],
   "source": [
    "%%time\n",
    "\n",
    "# Test\n",
    "\n",
    "# Put model in evaluation mode to evaluate loss on the validation set\n",
    "model.eval()\n",
    "\n",
    "#track variables\n",
    "logit_preds,true_labels,pred_labels,tokenized_texts = [],[],[],[]\n",
    "\n",
    "# Predict\n",
    "for i, batch in enumerate(test_dataloader):\n",
    "    batch = tuple(t.to(device) for t in batch)\n",
    "    # Unpack the inputs from our dataloader\n",
    "    b_input_ids, b_input_mask, b_labels, = batch\n",
    "    with torch.no_grad():\n",
    "        # Forward pass\n",
    "        outs = model(b_input_ids, token_type_ids=None, attention_mask=b_input_mask)\n",
    "        b_logit_pred = outs[0]\n",
    "        pred_label = torch.sigmoid(b_logit_pred)\n",
    "\n",
    "        b_logit_pred = b_logit_pred.detach().cpu().numpy()\n",
    "        pred_label = pred_label.to('cpu').numpy()\n",
    "        b_labels = b_labels.to('cpu').numpy()\n",
    "\n",
    "    tokenized_texts.append(b_input_ids)\n",
    "    logit_preds.append(b_logit_pred)\n",
    "    true_labels.append(b_labels)\n",
    "    pred_labels.append(pred_label)\n",
    "\n",
    "# Flatten outputs\n",
    "tokenized_texts = [item for sublist in tokenized_texts for item in sublist]\n",
    "pred_labels = [item for sublist in pred_labels for item in sublist]\n",
    "true_labels = [item for sublist in true_labels for item in sublist]\n",
    "# Converting flattened binary values to boolean values\n",
    "true_bools = [tl==1 for tl in true_labels]"
   ]
  },
  {
   "cell_type": "code",
   "execution_count": 45,
   "metadata": {
    "execution": {
     "iopub.execute_input": "2022-09-23T23:06:42.686675Z",
     "iopub.status.busy": "2022-09-23T23:06:42.685720Z",
     "iopub.status.idle": "2022-09-23T23:06:42.911259Z",
     "shell.execute_reply": "2022-09-23T23:06:42.910141Z",
     "shell.execute_reply.started": "2022-09-23T23:06:42.686635Z"
    }
   },
   "outputs": [
    {
     "name": "stdout",
     "output_type": "stream",
     "text": [
      "Test F1 Accuracy:  0.8493198771390963\n",
      "Test Flat Accuracy:  0.1661 \n",
      "\n",
      "              precision    recall  f1-score   support\n",
      "\n",
      "           A       0.79      0.78      0.79      4609\n",
      "           B       0.96      0.99      0.97      9250\n",
      "           C       0.90      0.84      0.87      5206\n",
      "           D       0.92      0.92      0.92      6259\n",
      "           E       0.81      0.96      0.88      7778\n",
      "           F       0.82      0.71      0.76      1767\n",
      "           G       0.83      0.89      0.86      6799\n",
      "           H       0.62      0.14      0.22      1221\n",
      "           I       0.66      0.63      0.64      1068\n",
      "           J       0.71      0.47      0.57      1110\n",
      "           L       0.66      0.48      0.56      1491\n",
      "           M       0.86      0.91      0.88      4232\n",
      "           N       0.80      0.79      0.80      4602\n",
      "           Z       0.72      0.71      0.72      1558\n",
      "\n",
      "   micro avg       0.85      0.85      0.85     56950\n",
      "   macro avg       0.79      0.73      0.75     56950\n",
      "weighted avg       0.84      0.85      0.84     56950\n",
      " samples avg       0.85      0.85      0.84     56950\n",
      "\n"
     ]
    }
   ],
   "source": [
    "pred_bools = [pl>0.50 for pl in pred_labels] #boolean output after thresholding\n",
    "# Print and save classification report\n",
    "Test_F1_Accuracy=f1_score(true_bools, pred_bools,average='micro')\n",
    "Test_Flat_Accuracy= accuracy_score(true_bools, pred_bools)\n",
    "print('Test F1 Accuracy: ',Test_F1_Accuracy )\n",
    "print('Test Flat Accuracy: ',Test_Flat_Accuracy,'\\n')\n",
    "\n",
    "df_test=pd.DataFrame({'Test F1 Accuracy':Test_F1_Accuracy, 'Test Flat Accuracy':Test_Flat_Accuracy},index=[0])\n",
    "\n",
    "print(classification_report(true_bools,pred_bools,target_names=test_mesh_categories))\n",
    "clf_report = classification_report(true_bools,pred_bools,target_names=test_mesh_categories,output_dict=True)\n",
    "df_report=pd.DataFrame(clf_report).transpose()\n",
    "\n"
   ]
  },
  {
   "cell_type": "code",
   "execution_count": 46,
   "metadata": {
    "execution": {
     "iopub.execute_input": "2022-09-23T23:06:51.667426Z",
     "iopub.status.busy": "2022-09-23T23:06:51.666775Z",
     "iopub.status.idle": "2022-09-23T23:06:51.676825Z",
     "shell.execute_reply": "2022-09-23T23:06:51.675421Z",
     "shell.execute_reply.started": "2022-09-23T23:06:51.667388Z"
    }
   },
   "outputs": [],
   "source": [
    "df_report.to_csv('Classification_Report.csv',index=False)"
   ]
  },
  {
   "cell_type": "code",
   "execution_count": 47,
   "metadata": {
    "execution": {
     "iopub.execute_input": "2022-09-23T23:06:55.006142Z",
     "iopub.status.busy": "2022-09-23T23:06:55.005725Z",
     "iopub.status.idle": "2022-09-23T23:06:55.901979Z",
     "shell.execute_reply": "2022-09-23T23:06:55.900823Z",
     "shell.execute_reply.started": "2022-09-23T23:06:55.006108Z"
    }
   },
   "outputs": [
    {
     "data": {
      "text/plain": [
       "('./Multi_label_Classification_Save/tokenizer_config.json',\n",
       " './Multi_label_Classification_Save/special_tokens_map.json',\n",
       " './Multi_label_Classification_Save/vocab.json',\n",
       " './Multi_label_Classification_Save/merges.txt',\n",
       " './Multi_label_Classification_Save/added_tokens.json')"
      ]
     },
     "execution_count": 47,
     "metadata": {},
     "output_type": "execute_result"
    }
   ],
   "source": [
    "model.save_pretrained('./Multi_label_Classification_Save/')\n",
    "tokenizer.save_pretrained('./Multi_label_Classification_Save/')"
   ]
  },
  {
   "cell_type": "code",
   "execution_count": 52,
   "metadata": {
    "execution": {
     "iopub.execute_input": "2022-09-23T23:27:06.887819Z",
     "iopub.status.busy": "2022-09-23T23:27:06.887038Z",
     "iopub.status.idle": "2022-09-23T23:27:06.897981Z",
     "shell.execute_reply": "2022-09-23T23:27:06.894321Z",
     "shell.execute_reply.started": "2022-09-23T23:27:06.887781Z"
    }
   },
   "outputs": [],
   "source": [
    "#Converting Labels to categorical before pushing it to Hugging Face Hub\n",
    "model.config.label2id= {\n",
    "\"Anatomy [A]\": 0,\n",
    "\"Organisms [B]\": 1,\n",
    "\"Diseases [C]\": 2,\n",
    "\"Chemicals and Drugs [D]\": 3,\n",
    "\"Analytical, Diagnostic and Therapeutic Techniques, and Equipment [E]\": 4,\n",
    "\"Psychiatry and Psychology [F]\": 5,\n",
    "\"Phenomena and Processes [G]\": 6,\n",
    "\"Disciplines and Occupations [H]\": 7,\n",
    "\"Anthropology, Education, Sociology, and Social Phenomena [I]\": 8,\n",
    "\"Technology, Industry, and Agriculture [J]\": 9,\n",
    "\"Information Science [L]\": 10,\n",
    "\"Named Groups [M]\": 11,\n",
    "\"Health Care [N]\": 12,\n",
    "\"Geographicals [Z]\": 13,\n",
    "}\n",
    "\n",
    "\n",
    "model.config.id2label={\n",
    "    \"0\": \"Anatomy [A]\",\n",
    "    \"1\": \"Organisms [B]\",\n",
    "    \"2\": \"Diseases [C]\",\n",
    "    \"3\": \"Chemicals and Drugs [D]\",\n",
    "    \"4\": \"Analytical, Diagnostic and Therapeutic Techniques, and Equipment [E]\",\n",
    "    \"5\": \"Psychiatry and Psychology [F]\",\n",
    "    \"6\": \"Phenomena and Processes [G]\",\n",
    "    \"7\": \"Disciplines and Occupations [H]\",\n",
    "    \"8\": \"Anthropology, Education, Sociology, and Social Phenomena [I]\",\n",
    "    \"9\": \"Technology, Industry, and Agriculture [J]\",\n",
    "    \"10\": \"Information Science [L]\",\n",
    "    \"11\": \"Named Groups [M]\",\n",
    "    \"12\": \"Health Care [N]\",\n",
    "    \"13\": \"Geographicals [Z]\"\n",
    "}\n",
    "    "
   ]
  },
  {
   "cell_type": "code",
   "execution_count": 53,
   "metadata": {
    "execution": {
     "iopub.execute_input": "2022-09-23T23:27:19.879741Z",
     "iopub.status.busy": "2022-09-23T23:27:19.879381Z",
     "iopub.status.idle": "2022-09-23T23:27:20.833016Z",
     "shell.execute_reply": "2022-09-23T23:27:20.831923Z",
     "shell.execute_reply.started": "2022-09-23T23:27:19.879710Z"
    }
   },
   "outputs": [
    {
     "data": {
      "application/vnd.jupyter.widget-view+json": {
       "model_id": "c3ebaa1e28db4fdc8440cbbbb7def450",
       "version_major": 2,
       "version_minor": 0
      },
      "text/plain": [
       "Downloading:   0%|          | 0.00/208k [00:00<?, ?B/s]"
      ]
     },
     "metadata": {},
     "output_type": "display_data"
    },
    {
     "data": {
      "application/vnd.jupyter.widget-view+json": {
       "model_id": "e3e4d844807843828359f885d406c003",
       "version_major": 2,
       "version_minor": 0
      },
      "text/plain": [
       "Downloading:   0%|          | 0.00/112 [00:00<?, ?B/s]"
      ]
     },
     "metadata": {},
     "output_type": "display_data"
    },
    {
     "data": {
      "application/vnd.jupyter.widget-view+json": {
       "model_id": "dc27c3be01884e09ae43f60282279dc9",
       "version_major": 2,
       "version_minor": 0
      },
      "text/plain": [
       "Downloading:   0%|          | 0.00/359 [00:00<?, ?B/s]"
      ]
     },
     "metadata": {},
     "output_type": "display_data"
    }
   ],
   "source": [
    "tokenizer = BertTokenizer.from_pretrained('owaiskha9654/Multi-Label-Classification-of-PubMed-Articles', do_lower_case=True) \n"
   ]
  },
  {
   "cell_type": "code",
   "execution_count": 54,
   "metadata": {
    "execution": {
     "iopub.execute_input": "2022-09-23T23:27:24.449393Z",
     "iopub.status.busy": "2022-09-23T23:27:24.448993Z",
     "iopub.status.idle": "2022-09-23T23:27:34.882815Z",
     "shell.execute_reply": "2022-09-23T23:27:34.881622Z",
     "shell.execute_reply.started": "2022-09-23T23:27:24.449360Z"
    }
   },
   "outputs": [
    {
     "data": {
      "application/vnd.jupyter.widget-view+json": {
       "model_id": "1ac719f341e840ef83a948ccda0a8ffb",
       "version_major": 2,
       "version_minor": 0
      },
      "text/plain": [
       "Downloading:   0%|          | 0.00/1.77k [00:00<?, ?B/s]"
      ]
     },
     "metadata": {},
     "output_type": "display_data"
    },
    {
     "data": {
      "application/vnd.jupyter.widget-view+json": {
       "model_id": "d8e728c945e84faa8521795df20390e4",
       "version_major": 2,
       "version_minor": 0
      },
      "text/plain": [
       "Downloading:   0%|          | 0.00/413M [00:00<?, ?B/s]"
      ]
     },
     "metadata": {},
     "output_type": "display_data"
    }
   ],
   "source": [
    "num_labels=14\n",
    "model = BertForSequenceClassification.from_pretrained(\"owaiskha9654/Multi-Label-Classification-of-PubMed-Articles\", num_labels=num_labels)"
   ]
  },
  {
   "cell_type": "code",
   "execution_count": 55,
   "metadata": {
    "execution": {
     "iopub.execute_input": "2022-09-23T23:27:41.943051Z",
     "iopub.status.busy": "2022-09-23T23:27:41.942654Z",
     "iopub.status.idle": "2022-09-23T23:27:52.570095Z",
     "shell.execute_reply": "2022-09-23T23:27:52.568675Z",
     "shell.execute_reply.started": "2022-09-23T23:27:41.943020Z"
    }
   },
   "outputs": [
    {
     "name": "stdout",
     "output_type": "stream",
     "text": [
      "Requirement already satisfied: gradio in /opt/conda/lib/python3.7/site-packages (3.3.1)\n",
      "Requirement already satisfied: paramiko in /opt/conda/lib/python3.7/site-packages (from gradio) (2.11.0)\n",
      "Requirement already satisfied: h11<0.13,>=0.11 in /opt/conda/lib/python3.7/site-packages (from gradio) (0.12.0)\n",
      "Requirement already satisfied: httpx in /opt/conda/lib/python3.7/site-packages (from gradio) (0.23.0)\n",
      "Requirement already satisfied: pycryptodome in /opt/conda/lib/python3.7/site-packages (from gradio) (3.15.0)\n",
      "Requirement already satisfied: pillow in /opt/conda/lib/python3.7/site-packages (from gradio) (9.1.1)\n",
      "Requirement already satisfied: requests in /opt/conda/lib/python3.7/site-packages (from gradio) (2.28.1)\n",
      "Requirement already satisfied: python-multipart in /opt/conda/lib/python3.7/site-packages (from gradio) (0.0.5)\n",
      "Requirement already satisfied: orjson in /opt/conda/lib/python3.7/site-packages (from gradio) (3.7.5)\n",
      "Requirement already satisfied: pydub in /opt/conda/lib/python3.7/site-packages (from gradio) (0.25.1)\n",
      "Requirement already satisfied: websockets in /opt/conda/lib/python3.7/site-packages (from gradio) (10.3)\n",
      "Requirement already satisfied: markdown-it-py[linkify,plugins] in /opt/conda/lib/python3.7/site-packages (from gradio) (2.1.0)\n",
      "Requirement already satisfied: pydantic in /opt/conda/lib/python3.7/site-packages (from gradio) (1.8.2)\n",
      "Requirement already satisfied: fsspec in /opt/conda/lib/python3.7/site-packages (from gradio) (2022.8.2)\n",
      "Requirement already satisfied: aiohttp in /opt/conda/lib/python3.7/site-packages (from gradio) (3.8.1)\n",
      "Requirement already satisfied: pandas in /opt/conda/lib/python3.7/site-packages (from gradio) (1.3.5)\n",
      "Requirement already satisfied: pyyaml in /opt/conda/lib/python3.7/site-packages (from gradio) (6.0)\n",
      "Requirement already satisfied: uvicorn in /opt/conda/lib/python3.7/site-packages (from gradio) (0.18.3)\n",
      "Requirement already satisfied: analytics-python in /opt/conda/lib/python3.7/site-packages (from gradio) (1.4.0)\n",
      "Requirement already satisfied: matplotlib in /opt/conda/lib/python3.7/site-packages (from gradio) (3.5.3)\n",
      "Requirement already satisfied: jinja2 in /opt/conda/lib/python3.7/site-packages (from gradio) (3.1.2)\n",
      "Requirement already satisfied: fastapi in /opt/conda/lib/python3.7/site-packages (from gradio) (0.83.0)\n",
      "Requirement already satisfied: numpy in /opt/conda/lib/python3.7/site-packages (from gradio) (1.21.6)\n",
      "Requirement already satisfied: ffmpy in /opt/conda/lib/python3.7/site-packages (from gradio) (0.3.0)\n",
      "Requirement already satisfied: async-timeout<5.0,>=4.0.0a3 in /opt/conda/lib/python3.7/site-packages (from aiohttp->gradio) (4.0.2)\n",
      "Requirement already satisfied: asynctest==0.13.0 in /opt/conda/lib/python3.7/site-packages (from aiohttp->gradio) (0.13.0)\n",
      "Requirement already satisfied: frozenlist>=1.1.1 in /opt/conda/lib/python3.7/site-packages (from aiohttp->gradio) (1.3.0)\n",
      "Requirement already satisfied: charset-normalizer<3.0,>=2.0 in /opt/conda/lib/python3.7/site-packages (from aiohttp->gradio) (2.1.0)\n",
      "Requirement already satisfied: aiosignal>=1.1.2 in /opt/conda/lib/python3.7/site-packages (from aiohttp->gradio) (1.2.0)\n",
      "Requirement already satisfied: typing-extensions>=3.7.4 in /opt/conda/lib/python3.7/site-packages (from aiohttp->gradio) (4.3.0)\n",
      "Requirement already satisfied: multidict<7.0,>=4.5 in /opt/conda/lib/python3.7/site-packages (from aiohttp->gradio) (6.0.2)\n",
      "Requirement already satisfied: yarl<2.0,>=1.0 in /opt/conda/lib/python3.7/site-packages (from aiohttp->gradio) (1.7.2)\n",
      "Requirement already satisfied: attrs>=17.3.0 in /opt/conda/lib/python3.7/site-packages (from aiohttp->gradio) (21.4.0)\n",
      "Requirement already satisfied: monotonic>=1.5 in /opt/conda/lib/python3.7/site-packages (from analytics-python->gradio) (1.6)\n",
      "Requirement already satisfied: python-dateutil>2.1 in /opt/conda/lib/python3.7/site-packages (from analytics-python->gradio) (2.8.2)\n",
      "Requirement already satisfied: backoff==1.10.0 in /opt/conda/lib/python3.7/site-packages (from analytics-python->gradio) (1.10.0)\n",
      "Requirement already satisfied: six>=1.5 in /opt/conda/lib/python3.7/site-packages (from analytics-python->gradio) (1.15.0)\n",
      "Requirement already satisfied: urllib3<1.27,>=1.21.1 in /opt/conda/lib/python3.7/site-packages (from requests->gradio) (1.26.12)\n",
      "Requirement already satisfied: certifi>=2017.4.17 in /opt/conda/lib/python3.7/site-packages (from requests->gradio) (2022.6.15.2)\n",
      "Requirement already satisfied: idna<4,>=2.5 in /opt/conda/lib/python3.7/site-packages (from requests->gradio) (3.3)\n",
      "Requirement already satisfied: starlette==0.19.1 in /opt/conda/lib/python3.7/site-packages (from fastapi->gradio) (0.19.1)\n",
      "Requirement already satisfied: anyio<5,>=3.4.0 in /opt/conda/lib/python3.7/site-packages (from starlette==0.19.1->fastapi->gradio) (3.6.1)\n",
      "Requirement already satisfied: sniffio in /opt/conda/lib/python3.7/site-packages (from httpx->gradio) (1.2.0)\n",
      "Requirement already satisfied: rfc3986[idna2008]<2,>=1.3 in /opt/conda/lib/python3.7/site-packages (from httpx->gradio) (1.5.0)\n",
      "Requirement already satisfied: httpcore<0.16.0,>=0.15.0 in /opt/conda/lib/python3.7/site-packages (from httpx->gradio) (0.15.0)\n",
      "Requirement already satisfied: MarkupSafe>=2.0 in /opt/conda/lib/python3.7/site-packages (from jinja2->gradio) (2.1.1)\n",
      "Requirement already satisfied: mdurl~=0.1 in /opt/conda/lib/python3.7/site-packages (from markdown-it-py[linkify,plugins]->gradio) (0.1.0)\n",
      "Requirement already satisfied: mdit-py-plugins in /opt/conda/lib/python3.7/site-packages (from markdown-it-py[linkify,plugins]->gradio) (0.3.0)\n",
      "Requirement already satisfied: linkify-it-py~=1.0 in /opt/conda/lib/python3.7/site-packages (from markdown-it-py[linkify,plugins]->gradio) (1.0.3)\n",
      "Requirement already satisfied: fonttools>=4.22.0 in /opt/conda/lib/python3.7/site-packages (from matplotlib->gradio) (4.33.3)\n",
      "Requirement already satisfied: cycler>=0.10 in /opt/conda/lib/python3.7/site-packages (from matplotlib->gradio) (0.11.0)\n",
      "Requirement already satisfied: packaging>=20.0 in /opt/conda/lib/python3.7/site-packages (from matplotlib->gradio) (21.3)\n",
      "Requirement already satisfied: pyparsing>=2.2.1 in /opt/conda/lib/python3.7/site-packages (from matplotlib->gradio) (3.0.9)\n",
      "Requirement already satisfied: kiwisolver>=1.0.1 in /opt/conda/lib/python3.7/site-packages (from matplotlib->gradio) (1.4.3)\n",
      "Requirement already satisfied: pytz>=2017.3 in /opt/conda/lib/python3.7/site-packages (from pandas->gradio) (2022.1)\n",
      "Requirement already satisfied: cryptography>=2.5 in /opt/conda/lib/python3.7/site-packages (from paramiko->gradio) (37.0.2)\n",
      "Requirement already satisfied: pynacl>=1.0.1 in /opt/conda/lib/python3.7/site-packages (from paramiko->gradio) (1.5.0)\n",
      "Requirement already satisfied: bcrypt>=3.1.3 in /opt/conda/lib/python3.7/site-packages (from paramiko->gradio) (4.0.0)\n",
      "Requirement already satisfied: click>=7.0 in /opt/conda/lib/python3.7/site-packages (from uvicorn->gradio) (8.0.4)\n",
      "Requirement already satisfied: importlib-metadata in /opt/conda/lib/python3.7/site-packages (from click>=7.0->uvicorn->gradio) (4.12.0)\n",
      "Requirement already satisfied: cffi>=1.12 in /opt/conda/lib/python3.7/site-packages (from cryptography>=2.5->paramiko->gradio) (1.15.0)\n",
      "Requirement already satisfied: uc-micro-py in /opt/conda/lib/python3.7/site-packages (from linkify-it-py~=1.0->markdown-it-py[linkify,plugins]->gradio) (1.0.1)\n",
      "Requirement already satisfied: pycparser in /opt/conda/lib/python3.7/site-packages (from cffi>=1.12->cryptography>=2.5->paramiko->gradio) (2.21)\n",
      "Requirement already satisfied: zipp>=0.5 in /opt/conda/lib/python3.7/site-packages (from importlib-metadata->click>=7.0->uvicorn->gradio) (3.8.0)\n",
      "\u001b[33mWARNING: Running pip as the 'root' user can result in broken permissions and conflicting behaviour with the system package manager. It is recommended to use a virtual environment instead: https://pip.pypa.io/warnings/venv\u001b[0m\u001b[33m\n",
      "\u001b[0m"
     ]
    }
   ],
   "source": [
    "!pip install gradio\n"
   ]
  },
  {
   "cell_type": "code",
   "execution_count": 59,
   "metadata": {
    "execution": {
     "iopub.execute_input": "2022-09-24T00:03:33.402679Z",
     "iopub.status.busy": "2022-09-24T00:03:33.401870Z",
     "iopub.status.idle": "2022-09-24T00:03:37.009077Z",
     "shell.execute_reply": "2022-09-24T00:03:37.007977Z",
     "shell.execute_reply.started": "2022-09-24T00:03:33.402633Z"
    }
   },
   "outputs": [
    {
     "name": "stdout",
     "output_type": "stream",
     "text": [
      "Running on local URL:  http://127.0.0.1:7861\n",
      "Running on public URL: https://17160.gradio.app\n",
      "\n",
      "This share link expires in 72 hours. For free permanent hosting, check out Spaces: https://huggingface.co/spaces\n"
     ]
    },
    {
     "data": {
      "text/html": [
       "<div><iframe src=\"https://17160.gradio.app\" width=\"900\" height=\"500\" allow=\"autoplay; camera; microphone;\" frameborder=\"0\" allowfullscreen></iframe></div>"
      ],
      "text/plain": [
       "<IPython.core.display.HTML object>"
      ]
     },
     "metadata": {},
     "output_type": "display_data"
    },
    {
     "data": {
      "text/plain": [
       "(<gradio.routes.App at 0x7f643bb0eb50>,\n",
       " 'http://127.0.0.1:7861/',\n",
       " 'https://17160.gradio.app')"
      ]
     },
     "execution_count": 59,
     "metadata": {},
     "output_type": "execute_result"
    }
   ],
   "source": [
    "import gradio as gr\n",
    "def Multi_Label_Classification_of_Pubmed_Articles(model_input: str) -> Dict[str, float]:\n",
    "    \n",
    "    # Encoding input data\n",
    "    dict_custom={}\n",
    "    Preprocess_part1=model_input[:len(model_input)]\n",
    "    Preprocess_part2=model_input[len(model_input):]\n",
    "    dict1=tokenizer.encode_plus(Preprocess_part1,max_length=1024,padding=True,truncation=True)\n",
    "    dict2=tokenizer.encode_plus(Preprocess_part2,max_length=1024,padding=True,truncation=True)\n",
    "    \n",
    "    dict_custom['input_ids']=[dict1['input_ids'],dict1['input_ids']]\n",
    "    dict_custom['token_type_ids']=[dict1['token_type_ids'],dict1['token_type_ids']]\n",
    "    dict_custom['attention_mask']=[dict1['attention_mask'],dict1['attention_mask']]\n",
    "    \n",
    "    outs = model(torch.tensor(dict_custom['input_ids']), token_type_ids=None, attention_mask=torch.tensor(dict_custom['attention_mask']))\n",
    "    b_logit_pred = outs[0]\n",
    "    pred_label = torch.sigmoid(b_logit_pred)\n",
    "    \n",
    "    ret ={\n",
    "        \"Anatomy [A]\": float(pred_label[0][0]),\n",
    "        \"Organisms [B]\": float(pred_label[0][1]),\n",
    "        \"Diseases [C]\": float(pred_label[0][2]),\n",
    "        \"Chemicals and Drugs [D]\": float(pred_label[0][3]),\n",
    "        \"Analytical, Diagnostic and Therapeutic Techniques, and Equipment [E]\": float(pred_label[0][4]),\n",
    "        \"Psychiatry and Psychology [F]\": float(pred_label[0][5]),\n",
    "        \"Phenomena and Processes [G]\": float(pred_label[0][6]),\n",
    "        \"Disciplines and Occupations [H]\": float(pred_label[0][7]),\n",
    "        \"Anthropology, Education, Sociology, and Social Phenomena [I]\": float(pred_label[0][8]),\n",
    "        \"Technology, Industry, and Agriculture [J]\": float(pred_label[0][9]),\n",
    "        \"Information Science [L]\": float(pred_label[0][10]),\n",
    "        \"Named Groups [M]\": float(pred_label[0][11]),\n",
    "        \"Health Care [N]\": float(pred_label[0][12]),\n",
    "        \"Geographicals [Z]\": float(pred_label[0][13])}\n",
    "    return ret\n",
    "\n",
    "\n",
    "model_input = gr.Textbox(\"Input text here (Note: This model is trained to classify Medical Articles(Still in Progress phase))\", show_label=False)\n",
    "model_output = gr.Label(\"Multi Label MeSH(Medical Subheadings) Result\", num_top_classes=6, show_label=True, label=\"MeSH(Medical Subheadings) Labels assigned to this article\")\n",
    "\n",
    "\n",
    "examples = [\n",
    "    (\n",
    "        \"A case of a patient with type 1 neurofibromatosis associated with popliteal and coronary artery aneurysms is described in which cross-sectional\",\n",
    "        \"imaging provided diagnostic information.\",\n",
    "        \"The aim of this study was to compare the exercise intensity and competition load during Time Trial (TT), Flat (FL), Medium Mountain (MM) and High \",\n",
    "        \"Mountain (HM) stages based heart rate (HR) and session rating of perceived exertion (RPE).METHODS: We monitored both HR and RPE of 12 professional \",\n",
    "        \"cyclists during two consecutive 21-day cycling races in order to analyze the exercise intensity and competition load (TRIMPHR and TRIMPRPE).\",\n",
    "        \"RESULTS:The highest (P<0.05) mean HR was found in TT (169±2 bpm) versus those observed in FL (135±1 bpm), MM (139±3 bpm), HM (143±1 bpm)\"\n",
    "    ),\n",
    "    (\n",
    "        \"The association of body mass index (BMI) with blood pressure may be stronger in Asian than non-Asian populations, however, longitudinal studies \",\n",
    "        \"with direct comparisons between ethnicities are lacking. We compared the relationship of BMI with incident hypertension over approximately 9.5 years\",\n",
    "        \" of follow-up in young (24-39 years) and middle-aged (45-64 years) Chinese Asians (n=5354), American Blacks (n=6076) and American Whites (n=13451).\",\n",
    "        \"We estimated risk differences using logistic regression models and calculated adjusted incidences and incidence differences. \",\n",
    "        \"To facilitate comparisons across ethnicities, standardized estimates were calculated using mean covariate values for age, sex, smoking, education\",\n",
    "        \"and field center, and included the quadratic terms for BMI and age. Weighted least-squares regression models with were constructed to summarize\",\n",
    "        \"ethnic-specific incidence differences across BMI. Wald statistics and p-values were calculated based on chi-square distributions. The association of\",\n",
    "        \"BMI with the incidence difference for hypertension was steeper in Chinese (p<0.05) than in American populations during young and middle-adulthood.\",\n",
    "        \"For example, at a BMI of 25 vs 21 kg/m2 the adjusted incidence differences per 1000 persons (95% CI) in young adults with a BMI of 25 vs those with\",\n",
    "        \"a BMI of 21 was 83 (36- 130) for Chinese, 50 (26-74) for Blacks and 30 (12-48) for Whites\"\n",
    "    )\n",
    "]\n",
    "\n",
    "title = \"RoBERTa Classification of biomedical article Pubmed\"\n",
    "description = \"The traditional machine learning models give a lot of pain when we do not have sufficient labeled data for the specific task or domain we care about to train a reliable model. Transfer learning allows us to deal with these scenarios by leveraging the already existing labeled data of some related task or domain. We try to store this knowledge gained in solving the source task in the source domain and apply it to our problem of interest. In this work, I have utilized Transfer Learning utilizing RoBERTa model to fine tune on Pubmed MultiLabel classification Dataset.\"\n",
    "text1 = (\n",
    "    \"<center> Authors:  Said and Aymen's Master Thesis at <b> University Saad dahblab Blida </b></center>\"\n",
    "\n",
    ")\n",
    "\n",
    "\n",
    "\n",
    "app = gr.Interface(\n",
    "    Multi_Label_Classification_of_Pubmed_Articles, \n",
    "\tinputs=model_input,\n",
    "    outputs=model_output, \n",
    "    examples=examples,\n",
    "    title=title,\n",
    "\tdescription=description,\n",
    "    article=text1,\n",
    "    allow_flagging='never',\n",
    "    analytics_enabled=False,\n",
    ")\n",
    "\n",
    "\n",
    "app.launch(inline=True,share=True)"
   ]
  }
 ],
 "metadata": {
  "kernelspec": {
   "display_name": "Python 3 (ipykernel)",
   "language": "python",
   "name": "python3"
  },
  "language_info": {
   "codemirror_mode": {
    "name": "ipython",
    "version": 3
   },
   "file_extension": ".py",
   "mimetype": "text/x-python",
   "name": "python",
   "nbconvert_exporter": "python",
   "pygments_lexer": "ipython3",
   "version": "3.8.10"
  }
 },
 "nbformat": 4,
 "nbformat_minor": 4
}
